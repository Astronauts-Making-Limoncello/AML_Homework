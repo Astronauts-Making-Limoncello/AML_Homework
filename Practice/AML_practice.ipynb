{
  "cells": [
    {
      "cell_type": "markdown",
      "metadata": {
        "id": "_U0EkDIvBXrO"
      },
      "source": [
        "## Table of contents:\n",
        "* Initial Setup\n",
        "* Data Loading and Preprocessing\n",
        "    * Data Variables\n",
        "* Model Instantiation\n",
        "* Optimizer and Scheduler\n",
        "* Train and Evaluation Loop\n",
        "    * Save the model and plot the losses (**1 Point**)\n",
        "* Test Loop  \n",
        "* Human Pose Visualization (**2 Points**)\n",
        "* Report and Parameter Fine-Tuning Analysis  (**4 Points**)\n",
        "* Calculating MPJPE for a Specific Frame  (**2 Points**)\n",
        "* Iterative Mechanism (**3 Points**)\n",
        "* YOUR custom model (**3 Points**)\n",
        "    * Performance BONUS (**Up to 2 Points**)\n",
        "\n"
      ]
    },
    {
      "cell_type": "markdown",
      "metadata": {
        "id": "0s2XUo8DBXrR"
      },
      "source": [
        "## Initial Setup\n",
        "Run the following two cellls to sync with Google Drive only if you run from Google Colab.\n",
        "\n",
        "*Note: we recommend using Google Colab for this specific homework, since the training phase will require a GPU*"
      ]
    },
    {
      "cell_type": "code",
      "execution_count": 1,
      "metadata": {
        "id": "c-ZWnMV4BXrR",
        "colab": {
          "base_uri": "https://localhost:8080/"
        },
        "outputId": "d6a5e0ac-3636-4aa9-cc5d-83100c809f84"
      },
      "outputs": [
        {
          "output_type": "stream",
          "name": "stdout",
          "text": [
            "Mounted at /content/drive\n"
          ]
        }
      ],
      "source": [
        "from google.colab import drive\n",
        "drive.mount('/content/drive', force_remount=True)"
      ]
    },
    {
      "cell_type": "code",
      "execution_count": 2,
      "metadata": {
        "colab": {
          "base_uri": "https://localhost:8080/"
        },
        "id": "MqjWk6s-BXrS",
        "outputId": "8679bbd5-2da6-486c-e1bd-4413fbcb678e"
      },
      "outputs": [
        {
          "output_type": "stream",
          "name": "stdout",
          "text": [
            "/content/drive/MyDrive/AML/Practice\n"
          ]
        }
      ],
      "source": [
        "%cd /content/drive/MyDrive/AML/Practice"
      ]
    },
    {
      "cell_type": "code",
      "execution_count": 155,
      "metadata": {
        "colab": {
          "base_uri": "https://localhost:8080/"
        },
        "id": "CIPz4YWBwbKq",
        "outputId": "deb7876f-5ee4-4386-9e60-a56a1d0cc55b"
      },
      "outputs": [
        {
          "output_type": "stream",
          "name": "stdout",
          "text": [
            "/bin/bash: line 1: wandb: command not found\n"
          ]
        }
      ],
      "source": [
        "!wandb login"
      ]
    },
    {
      "cell_type": "markdown",
      "metadata": {
        "id": "nfZFycIrBXrT"
      },
      "source": [
        "Welcome to this guide on training, testing, and fine-tuning a deep learning model. Deep learning is at the forefront of artificial intelligence, with applications spanning image recognition, natural language processing, and more.\n",
        "\n",
        "Throughout this assignment, you'll:\n",
        "\n",
        "1. **Prepare Data:** Preprocess and load the data.\n",
        "\n",
        "2. **Use Neural Networks:** Instantiate a neural network architecture.\n",
        "\n",
        "3. **Train Models:** Utilize optimization, loss functions, and backpropagation.\n",
        "\n",
        "4. **Evaluate Performance:** Assess model performance, prevent overfitting, and underfitting.\n",
        "\n",
        "5. **Fine-Tune Models:** Explore hyperparameter tuning."
      ]
    },
    {
      "cell_type": "code",
      "execution_count": 101,
      "metadata": {
        "id": "7air6QP1tXsa"
      },
      "outputs": [],
      "source": [
        "from utils import h36motion3d as datasets\n",
        "from torch.utils.data import DataLoader\n",
        "import matplotlib.pyplot as plt\n",
        "import torch.optim as optim\n",
        "import torch.autograd\n",
        "import torch\n",
        "import numpy as np\n",
        "from utils.loss_funcs import *\n",
        "from utils.data_utils import define_actions\n",
        "from utils.h36_3d_viz import visualize\n",
        "import time\n",
        "\n",
        "import torch.nn.functional as F"
      ]
    },
    {
      "cell_type": "code",
      "execution_count": 102,
      "metadata": {
        "colab": {
          "base_uri": "https://localhost:8080/"
        },
        "id": "m5-P9Yj-tfBC",
        "outputId": "bbf14969-9cee-4430-a205-767416d8e614"
      },
      "outputs": [
        {
          "output_type": "stream",
          "name": "stdout",
          "text": [
            "Using device: cuda - Type: Tesla T4\n"
          ]
        }
      ],
      "source": [
        "# Use GPU if available, otherwise stick with cpu\n",
        "device = torch.device('cuda' if torch.cuda.is_available() else 'cpu')\n",
        "print('Using device:', device,  '- Type:', torch.cuda.get_device_name(0))"
      ]
    },
    {
      "cell_type": "markdown",
      "metadata": {
        "id": "AsK9hMdiBXrU"
      },
      "source": [
        "## Data Loading and Preprocessing"
      ]
    },
    {
      "cell_type": "markdown",
      "metadata": {
        "id": "e-EC3XAqBXrV"
      },
      "source": [
        "For this homework, you will use [Human3.6M](https://vision.imar.ro/human3.6m/pami-h36m.pdf), which is a large-scale dataset of 3.6 million accurate 3D human poses acquired by recording the performance of five female and six male subjects under four different viewpoints. The dataset includes:\n",
        "- Synchronized image.\n",
        "- Human motion capture.\n",
        "- Time of flight (depth) data.\n",
        "- Accurate 3D body scans of all the subject actors involved.\n",
        "\n",
        "The dataset aims to provide diverse motions and poses encountered in typical human activities, with additional data to train realistic human sensing systems.\n",
        "\n",
        "![picture](https://drive.google.com/uc?export=view&id=1nyD1_F3r1ctexKFGDmhy2Q9SX_2Z_bpS)\n",
        "\n",
        "For this assignment, we will leverage the rich **motion data** (See in the figure above) provided by H3.6M to perform a task known as *motion prediction*. Motion prediction involves using historical motion data to forecast future movements. This task is fundamental in human-robot interaction, animation, and sports analytics applications."
      ]
    },
    {
      "cell_type": "markdown",
      "metadata": {
        "id": "JDVBcpLABXrV"
      },
      "source": [
        "### Data Variables\n",
        "\n",
        "Each created sequence has the shape (35, 17, 3), where:\n",
        "- Number of observed sequences and number of sequences to predict: $N_{obs}+N_{pred} = 10 + 25 = 35$;\n",
        "- Number of body joints to consider: $J=22$;\n",
        "- Spatial coordinates: $(x,y,z) = 3$.\n",
        "\n",
        "\n",
        "The original data provides high-resolution progressive scan videos at 50 Hz. However, the dataset has been downsampled to 25 Hz for research purposes. This means that 25 frames of motion data are provided per second.\n",
        "\n",
        "*Note: the figure above shows 18 joints, however the dataset contains 32. For this specific case we will consider 22 joints, ignoring some of the finer ones (e.g. foot tip, hand tip, etc)*\n"
      ]
    },
    {
      "cell_type": "code",
      "execution_count": 158,
      "metadata": {
        "id": "ZgNCWoUEBXrV"
      },
      "outputs": [],
      "source": [
        "# # Arguments to setup the datasets\n",
        "datas = 'h36m' # dataset name\n",
        "path = './data/h3.6m/h3.6m/dataset'\n",
        "input_n=10 # number of frames to train on (default=10)\n",
        "output_n=25 # number of frames to predict on\n",
        "input_dim=3 # dimensions of the input coordinates(default=3)\n",
        "skip_rate=1 # # skip rate of frames\n",
        "joints_to_consider=22\n",
        "\n",
        "\n",
        "#FLAGS FOR THE TRAINING\n",
        "mode='train' #choose either train or test mode\n",
        "\n",
        "batch_size_test=8\n",
        "model_path= './checkpoints/' # path to the model checkpoint file\n",
        "\n",
        "actions_to_consider_test='all' # actions to test on.\n",
        "model_name = datas+'_3d_'+str(output_n)+'frames_ckpt' #the model name to save/load\n",
        "\n",
        "#FLAGS FOR THE VISUALIZATION\n",
        "actions_to_consider_viz='all' # actions to visualize\n",
        "visualize_from='test'\n",
        "n_viz=2"
      ]
    },
    {
      "cell_type": "markdown",
      "metadata": {
        "id": "WHrODi8VBXrW"
      },
      "source": [
        "Load Dataset\n",
        "\n",
        "*Note: It will take you ~ 5 minutes*"
      ]
    },
    {
      "cell_type": "code",
      "execution_count": 159,
      "metadata": {
        "id": "0GTflRxwBXrW",
        "colab": {
          "base_uri": "https://localhost:8080/"
        },
        "outputId": "9c2877c0-9c7a-409b-8fc0-ab9efe3b2e1e"
      },
      "outputs": [
        {
          "output_type": "stream",
          "name": "stdout",
          "text": [
            "Loading Train Dataset...\n",
            "Loading Validation Dataset...\n"
          ]
        }
      ],
      "source": [
        "# Load Data\n",
        "print('Loading Train Dataset...')\n",
        "dataset = datasets.Datasets(path,input_n,output_n,skip_rate, split=0)\n",
        "print('Loading Validation Dataset...')\n",
        "vald_dataset = datasets.Datasets(path,input_n,output_n,skip_rate, split=1)\n",
        "\n",
        "#! Note: Ignore warning:  \"VisibleDeprecationWarning: Creating an ndarray from ragged nested sequences\""
      ]
    },
    {
      "cell_type": "markdown",
      "metadata": {
        "id": "ZBDfLkXfBXrW"
      },
      "source": [
        "Following we create a torch dataloader that create the batches for each epoch."
      ]
    },
    {
      "cell_type": "code",
      "execution_count": 160,
      "metadata": {
        "id": "5RWNrUxIBXrW",
        "colab": {
          "base_uri": "https://localhost:8080/"
        },
        "outputId": "7993de60-ca32-410b-a18f-45238bce22c4"
      },
      "outputs": [
        {
          "output_type": "stream",
          "name": "stdout",
          "text": [
            ">>> Training dataset length: 180077\n",
            ">>> Validation dataset length: 28110\n"
          ]
        }
      ],
      "source": [
        "batch_size=256\n",
        "\n",
        "print('>>> Training dataset length: {:d}'.format(dataset.__len__()))\n",
        "data_loader = DataLoader(dataset, batch_size=batch_size, shuffle=True, num_workers=0, pin_memory=True)#\n",
        "\n",
        "print('>>> Validation dataset length: {:d}'.format(vald_dataset.__len__()))\n",
        "vald_loader = DataLoader(vald_dataset, batch_size=batch_size, shuffle=True, num_workers=0, pin_memory=True)"
      ]
    },
    {
      "cell_type": "markdown",
      "metadata": {
        "id": "ZdFwJ4QuBXrX"
      },
      "source": [
        "## Model instantiation"
      ]
    },
    {
      "cell_type": "markdown",
      "metadata": {
        "id": "cv7XT2pDBXrX"
      },
      "source": [
        "\n",
        "Each sequence comprises an **observed** part to train the Encoder and a part that attempts to predict the **future** sequence, the Decoder.\n",
        "\n",
        "Generally, the standard setup plans to use the first 10 sequences of poses ($N_{obs}=10$) for the observation and the following 25 ($N_{pred} = 25$) for the prediction.\n"
      ]
    },
    {
      "cell_type": "markdown",
      "metadata": {
        "id": "YW7_ED1vBXrY"
      },
      "source": [
        "We create an instance of a custom Spatio-Temporal transformer with the chosen configuration.\n",
        "\n",
        "(*Note: explore the model in ./models/sttr/sttformer.py*)\n",
        "\n",
        "Then we allocate it to the GPU for forward and backward accelerated computation."
      ]
    },
    {
      "cell_type": "code",
      "execution_count": 161,
      "metadata": {
        "id": "9bDpLWl6BXrY",
        "colab": {
          "base_uri": "https://localhost:8080/"
        },
        "outputId": "a5b1cac8-e320-4aaf-fa65-f8f0931457ce"
      },
      "outputs": [
        {
          "output_type": "stream",
          "name": "stdout",
          "text": [
            "Using device: cuda\n",
            "total number of parameters of the network is: 26859\n"
          ]
        }
      ],
      "source": [
        "from models.sttr.sttformer import Model\n",
        "device = torch.device('cuda' if torch.cuda.is_available() else 'cpu')\n",
        "print('Using device: %s'%device)\n",
        "\n",
        "n_heads = 1\n",
        "\n",
        "model = Model(num_joints=joints_to_consider,\n",
        "                 num_frames=input_n, num_frames_out=output_n, num_heads=n_heads,\n",
        "                 num_channels=3, kernel_size=[3,3], use_pes=True).to(device)\n",
        "\n",
        "print('total number of parameters of the network is: '+str(sum(p.numel() for p in model.parameters() if p.requires_grad)))"
      ]
    },
    {
      "cell_type": "markdown",
      "metadata": {
        "id": "xBtix_WjBXrY"
      },
      "source": [
        "## Optimizer and Scheduler"
      ]
    },
    {
      "cell_type": "markdown",
      "metadata": {
        "id": "1XtIPG_IBXrY"
      },
      "source": [
        "As we embark on training deep learning models for motion prediction using the H3.6M dataset, it's essential to recognize several key parameters and components that significantly impact the training phase:\n",
        "\n",
        "- **Learning Rate:** This parameter determines the convergence speed during optimization.\n",
        "\n",
        "- **Batch Size:** It influences model generalization and training efficiency.\n",
        "\n",
        "- **Number of Epochs:** The number of training iterations affects model learning.\n",
        "\n",
        "- **Loss Function:** The choice of loss function directly affects learning and final performance.\n",
        "\n",
        "- **Optimizer:** The optimization algorithm used (e.g., Adam, SGD) impacts gradient descent during training.\n",
        "\n",
        "- **Milestones and Gamma:** These parameters control learning rate schedules, allowing for adaptive adjustments during training.\n",
        "\n",
        "- **Weight Decay:** It regulates the impact of model parameters during optimization.\n",
        "\n",
        "- **Scheduler:** Scheduler strategies (e.g., StepLR, ReduceLROnPlateau) manage learning rate adaptation during training."
      ]
    },
    {
      "cell_type": "code",
      "execution_count": 162,
      "metadata": {
        "id": "ILUrD5v4BXrZ"
      },
      "outputs": [],
      "source": [
        "# Arguments to setup the optimizer\n",
        "lr=1e-01 # learning rate\n",
        "use_scheduler=True # use MultiStepLR scheduler\n",
        "milestones=[10,30]   # the epochs after which the learning rate is adjusted by gamma\n",
        "gamma=0.1 #gamma correction to the learning rate, after reaching the milestone epochs\n",
        "weight_decay=1e-05 # weight decay (L2 penalty)\n",
        "optimizer=optim.Adam(model.parameters(),lr=lr,weight_decay=weight_decay)\n",
        "\n",
        "if use_scheduler:\n",
        "    scheduler = optim.lr_scheduler.MultiStepLR(optimizer, milestones=milestones, gamma=gamma)"
      ]
    },
    {
      "cell_type": "code",
      "execution_count": 163,
      "metadata": {
        "id": "9lfkuKP1BXra"
      },
      "outputs": [],
      "source": [
        "clip_grad=None # select max norm to clip gradients\n",
        "# Argument for training\n",
        "n_epochs=41\n",
        "log_step = 700"
      ]
    },
    {
      "cell_type": "code",
      "execution_count": 164,
      "metadata": {
        "id": "C8zw7pxyxaO-"
      },
      "outputs": [],
      "source": [
        "import datetime\n",
        "import os\n",
        "import wandb\n",
        "\n",
        "lim_n_batches_percent = 0.05\n",
        "step_size = 30\n",
        "\n",
        "train_id = datetime.datetime.now().strftime(\"%Y_%m_%d_%H_%M_%S\")\n",
        "ckpt_dir = f\"{model_path}{train_id}\"\n",
        "os.makedirs(ckpt_dir) if not os.path.exists(ckpt_dir) else None\n",
        "\n",
        "\n",
        "train_config = {\n",
        "  \"batch_size\": batch_size,\n",
        "  \"lim_n_batches_percent\": lim_n_batches_percent,\n",
        "  \"n_heads\": n_heads,\n",
        "  \"model\": model,\n",
        "  \"num_trainable_parameters\": str(sum(p.numel() for p in model.parameters() if p.requires_grad)),\n",
        "  \"lr\": lr,\n",
        "  \"use_scheduler\": use_scheduler,\n",
        "  \"milestones\": milestones,\n",
        "  \"gamma\": gamma,\n",
        "  \"step_size\": step_size,\n",
        "  \"weight_decay\": weight_decay,\n",
        "  \"optimizer\": optimizer,\n",
        "  \"scheduler\": scheduler if use_scheduler else None,\n",
        "  \"clip_grad\": clip_grad,\n",
        "  \"n_epochs\": n_epochs,\n",
        "  \"train_id\": train_id\n",
        "}"
      ]
    },
    {
      "cell_type": "markdown",
      "metadata": {
        "id": "fTbGwJFtBXra"
      },
      "source": [
        "## Train and Evaluation Loop"
      ]
    },
    {
      "cell_type": "markdown",
      "metadata": {
        "id": "uBT0Z7FLBXrb"
      },
      "source": [
        "The **loss** and **metric** used during training and evaluation respectively, compare the predicted joint positions to ground truth joint positions for all frames, which is typically referred to as the **Average Mean Per\n",
        "Joint Position Error (A-MPJPE)** can be seen as an $L_2$. This loss quantifies the dissimilarity between the predicted and ground truth joint positions by measuring the squared Euclidean distance between corresponding joint positions.\n",
        "\n",
        "\\begin{align*}\n",
        "A-MPJPE &= \\frac{1}{N_{pred}} \\sum_{i=1}^{N_{pred}} \\left(\\frac{1}{J} \\sum_{j=1}^{J} \\left\\| P_{\\text{predicted}_{t,j}} - P_{\\text{gt}_{t,j}} \\right\\|^2\\right)\n",
        "\\end{align*}\n",
        "\n",
        "$$where:$$\n",
        "\n",
        "\\begin{align*}\n",
        "P_{\\text{predicted}} &: \\text{Set of predicted joint positions estimated by the model.} \\\\\n",
        "P_{\\text{gt}} &: \\text{Corresponding set of ground truth joint positions.} \\\\\n",
        "\\end{align*}"
      ]
    },
    {
      "cell_type": "markdown",
      "metadata": {
        "id": "lriDKsUoBXrb"
      },
      "source": [
        "*Note: If you restart the training for any reason, remember to instantiate the model and the optimizer again. This will avoid continuing the training with the initialized weights of the previous one*\n"
      ]
    },
    {
      "cell_type": "markdown",
      "metadata": {
        "id": "3hiF0f6oBXrb"
      },
      "source": [
        "### Save the model and plot the losses (1 Point)\n",
        "\n",
        "**Objective:** In this exercise, you will practice implementing a code snippet to save your deep learning model's checkpoints and visualize the training and validation loss on the same plot every 5 epochs during model training.\n",
        "\n",
        "Your task is to implement the following:\n",
        "\n",
        "- Set up a mechanism to save the model's checkpoints (weights and architecture) during training. These checkpoints should be saved periodically, say, **every 5 epochs**.\n",
        "\n",
        "- Create a plot displaying the training and validation losses on the same graph. The x-axis should represent the number of epochs, and the y-axis should represent the loss values. The training and validation losses should be plotted as separate lines on the same graph.\n",
        "\n",
        "- Ensure that the code saves the model's checkpoints in a specified directory, including the model's architecture and weights, and that the loss plot is displayed.\n",
        "\n",
        "Analyze the loss plot to gain insights into how your model is learning over time and whether there are any signs of overfitting or underfitting.\n",
        "\n",
        "*Note: see the Pytorch Documentation on how to save your model's checkpoints.*\n"
      ]
    },
    {
      "cell_type": "code",
      "execution_count": null,
      "metadata": {
        "id": "oQUGhkJPuoF8"
      },
      "outputs": [],
      "source": [
        "def train(data_loader,vald_loader, path_to_save_model=None):\n",
        "\n",
        "  n_train_batches = int(len(data_loader) * lim_n_batches_percent) + 1\n",
        "  n_val_batches = int(len(vald_loader) * lim_n_batches_percent) + 1\n",
        "\n",
        "  #TODO controlla errore: metodo non esisteva\n",
        "  wandb.init(project=\"Spatio-Temporal Transformer fine-tuning\", config=train_config)\n",
        "\n",
        "  train_loss = []\n",
        "  val_loss = []\n",
        "  val_loss_best = 1000\n",
        "\n",
        "  dim_used = np.array([6, 7, 8, 9, 10, 11, 12, 13, 14, 15, 16, 17, 21, 22, 23, 24, 25,\n",
        "                    26, 27, 28, 29, 30, 31, 32, 36, 37, 38, 39, 40, 41, 42, 43, 44, 45,\n",
        "                    46, 47, 51, 52, 53, 54, 55, 56, 57, 58, 59, 63, 64, 65, 66, 67, 68,\n",
        "                    75, 76, 77, 78, 79, 80, 81, 82, 83, 87, 88, 89, 90, 91, 92])\n",
        "\n",
        "  # Create a figure and axis for the plot\n",
        "  fig, ax = plt.subplots()\n",
        "  lines, = ax.plot([], [], 'b', label='Training Loss')\n",
        "  lines2, = ax.plot([], [], 'r', label='Validation Loss')\n",
        "  ax.set_xlabel('Epoch')\n",
        "  ax.set_ylabel('Loss')\n",
        "  ax.set_title('Training and Validation Loss')\n",
        "  ax.legend()\n",
        "\n",
        "  for epoch in range(n_epochs-1):\n",
        "      running_loss=0\n",
        "      n=0\n",
        "      model.train()\n",
        "      for cnt,batch in enumerate(data_loader):\n",
        "          batch=batch.float().to(device)\n",
        "          batch_dim=batch.shape[0]\n",
        "          n+=batch_dim\n",
        "\n",
        "          sequences_train=batch[:, 0:input_n, dim_used].view(-1,input_n,len(dim_used)//3,3).permute(0,3,1,2)\n",
        "          sequences_gt=batch[:, input_n:input_n+output_n, dim_used].view(-1,output_n,len(dim_used)//3,3)\n",
        "\n",
        "          optimizer.zero_grad()\n",
        "          sequences_predict=model(sequences_train).view(-1, output_n, joints_to_consider, 3)\n",
        "\n",
        "\n",
        "          loss=mpjpe_error(sequences_predict,sequences_gt)\n",
        "\n",
        "\n",
        "          if cnt % log_step == 0:\n",
        "            print('[Epoch: %d, Iteration: %5d]  training loss: %.3f' %(epoch + 1, cnt + 1, loss.item()))\n",
        "\n",
        "          loss.backward()\n",
        "          if clip_grad is not None:\n",
        "            torch.nn.utils.clip_grad_norm_(model.parameters(),clip_grad)\n",
        "\n",
        "          optimizer.step()\n",
        "          running_loss += loss*batch_dim\n",
        "\n",
        "      train_loss.append(running_loss.detach().cpu()/n)\n",
        "      model.eval()\n",
        "      with torch.no_grad():\n",
        "          running_loss=0\n",
        "          n=0\n",
        "          for cnt,batch in enumerate(vald_loader):\n",
        "              batch=batch.float().to(device)\n",
        "              batch_dim=batch.shape[0]\n",
        "              n+=batch_dim\n",
        "\n",
        "\n",
        "              sequences_train=batch[:, 0:input_n, dim_used].view(-1,input_n,len(dim_used)//3,3).permute(0,3,1,2)\n",
        "              sequences_gt=batch[:, input_n:input_n+output_n, dim_used].view(-1,output_n,len(dim_used)//3,3)\n",
        "\n",
        "              sequences_predict=model(sequences_train).view(-1, output_n, joints_to_consider, 3)\n",
        "              loss=mpjpe_error(sequences_predict,sequences_gt)\n",
        "\n",
        "              if cnt % log_step == 0:\n",
        "                        print('[Epoch: %d, Iteration: %5d]  validation loss: %.3f' %(epoch + 1, cnt + 1, loss.item()))\n",
        "              running_loss+=loss*batch_dim\n",
        "          val_loss.append(running_loss.detach().cpu()/n)\n",
        "          if running_loss/n < val_loss_best:\n",
        "            val_loss_best = running_loss/n\n",
        "\n",
        "      if use_scheduler:\n",
        "        scheduler.step()\n",
        "\n",
        "      # save and plot model every 5 epochs\n",
        "      '''\n",
        "      Insert your code below. Use the argument path_to_save_model to save the model to the path specified.\n",
        "      '''\n",
        "\n",
        "      if save_and_plot:\n",
        "        torch.save(model.state_dict(), path_to_save_model + model_name + \"_epoch_\" + str(epoch+1) + \".pt\")\n",
        "\n",
        "        lines.set_data(range(1, epoch+2), train_loss)\n",
        "        lines2.set_data(range(1, epoch+2), val_loss)\n",
        "        ax.relim()\n",
        "        ax.autoscale_view()\n",
        "\n",
        "        # Redraw the figure\n",
        "        fig.canvas.draw()\n",
        "\n",
        "        #wandb.log({\n",
        "        #  \"epoch\": epoch,\n",
        "        #  \"loss/train\": train_loss[-1],\n",
        "        #  \"loss/val\": val_loss[-1]\n",
        "        #})\n",
        "\n",
        "  # Display the plot when done\n",
        "  plt.show()\n"
      ]
    },
    {
      "cell_type": "code",
      "execution_count": null,
      "metadata": {
        "colab": {
          "base_uri": "https://localhost:8080/",
          "height": 1000,
          "referenced_widgets": [
            "ad1335a70ab64f1e82759084cf3521bd",
            "26dd3a1731e64a9b819005d7cd8e7996",
            "3e865a34ac0842fa8d2bb5b311ae5511",
            "e6bff14e4b7244a09655883fb34c1703",
            "1ccdd086b475483295de6391f9f469dc",
            "882027c62aee457884ca9ae347777451",
            "48d6bca113864643ad01f43633f10d9c",
            "7286a39848c548d48d6a94d9b87adf6e"
          ]
        },
        "id": "uPWGWLHTBXrd",
        "outputId": "21f95d24-82e2-4e75-de9c-184d88b33442"
      },
      "outputs": [
        {
          "data": {
            "text/html": [
              "Finishing last run (ID:35bt5m3q) before initializing another..."
            ],
            "text/plain": [
              "<IPython.core.display.HTML object>"
            ]
          },
          "metadata": {},
          "output_type": "display_data"
        },
        {
          "data": {
            "text/html": [
              "Waiting for W&B process to finish... <strong style=\"color:green\">(success).</strong>"
            ],
            "text/plain": [
              "<IPython.core.display.HTML object>"
            ]
          },
          "metadata": {},
          "output_type": "display_data"
        },
        {
          "data": {
            "application/vnd.jupyter.widget-view+json": {
              "model_id": "ad1335a70ab64f1e82759084cf3521bd",
              "version_major": 2,
              "version_minor": 0
            },
            "text/plain": [
              "VBox(children=(Label(value='0.001 MB of 0.001 MB uploaded (0.000 MB deduped)\\r'), FloatProgress(value=1.0, max…"
            ]
          },
          "metadata": {},
          "output_type": "display_data"
        },
        {
          "data": {
            "text/html": [
              "<style>\n",
              "    table.wandb td:nth-child(1) { padding: 0 10px; text-align: left ; width: auto;} td:nth-child(2) {text-align: left ; width: 100%}\n",
              "    .wandb-row { display: flex; flex-direction: row; flex-wrap: wrap; justify-content: flex-start; width: 100% }\n",
              "    .wandb-col { display: flex; flex-direction: column; flex-basis: 100%; flex: 1; padding: 10px; }\n",
              "    </style>\n",
              "<div class=\"wandb-row\"><div class=\"wandb-col\"><h3>Run history:</h3><br/><table class=\"wandb\"><tr><td>epoch</td><td>▁█</td></tr><tr><td>loss/train</td><td>█▁</td></tr><tr><td>loss/val</td><td>█▁</td></tr></table><br/></div><div class=\"wandb-col\"><h3>Run summary:</h3><br/><table class=\"wandb\"><tr><td>epoch</td><td>9</td></tr><tr><td>loss/train</td><td>87.43213</td></tr><tr><td>loss/val</td><td>83.90468</td></tr></table><br/></div></div>"
            ],
            "text/plain": [
              "<IPython.core.display.HTML object>"
            ]
          },
          "metadata": {},
          "output_type": "display_data"
        },
        {
          "data": {
            "text/html": [
              " View run <strong style=\"color:#cdcd00\">zesty-music-1</strong> at: <a href='https://wandb.ai/rampo/Spatio-Temporal%20Transformer%20fine-tuning/runs/35bt5m3q' target=\"_blank\">https://wandb.ai/rampo/Spatio-Temporal%20Transformer%20fine-tuning/runs/35bt5m3q</a><br/>Synced 5 W&B file(s), 0 media file(s), 0 artifact file(s) and 0 other file(s)"
            ],
            "text/plain": [
              "<IPython.core.display.HTML object>"
            ]
          },
          "metadata": {},
          "output_type": "display_data"
        },
        {
          "data": {
            "text/html": [
              "Find logs at: <code>./wandb/run-20231022_142723-35bt5m3q/logs</code>"
            ],
            "text/plain": [
              "<IPython.core.display.HTML object>"
            ]
          },
          "metadata": {},
          "output_type": "display_data"
        },
        {
          "data": {
            "text/html": [
              "Successfully finished last run (ID:35bt5m3q). Initializing new run:<br/>"
            ],
            "text/plain": [
              "<IPython.core.display.HTML object>"
            ]
          },
          "metadata": {},
          "output_type": "display_data"
        },
        {
          "data": {
            "text/html": [
              "Tracking run with wandb version 0.15.12"
            ],
            "text/plain": [
              "<IPython.core.display.HTML object>"
            ]
          },
          "metadata": {},
          "output_type": "display_data"
        },
        {
          "data": {
            "text/html": [
              "Run data is saved locally in <code>/content/drive/MyDrive/AML/Practice/wandb/run-20231022_144618-kuzjza0l</code>"
            ],
            "text/plain": [
              "<IPython.core.display.HTML object>"
            ]
          },
          "metadata": {},
          "output_type": "display_data"
        },
        {
          "data": {
            "text/html": [
              "Syncing run <strong><a href='https://wandb.ai/rampo/Spatio-Temporal%20Transformer%20fine-tuning/runs/kuzjza0l' target=\"_blank\">hopeful-darkness-2</a></strong> to <a href='https://wandb.ai/rampo/Spatio-Temporal%20Transformer%20fine-tuning' target=\"_blank\">Weights & Biases</a> (<a href='https://wandb.me/run' target=\"_blank\">docs</a>)<br/>"
            ],
            "text/plain": [
              "<IPython.core.display.HTML object>"
            ]
          },
          "metadata": {},
          "output_type": "display_data"
        },
        {
          "data": {
            "text/html": [
              " View project at <a href='https://wandb.ai/rampo/Spatio-Temporal%20Transformer%20fine-tuning' target=\"_blank\">https://wandb.ai/rampo/Spatio-Temporal%20Transformer%20fine-tuning</a>"
            ],
            "text/plain": [
              "<IPython.core.display.HTML object>"
            ]
          },
          "metadata": {},
          "output_type": "display_data"
        },
        {
          "data": {
            "text/html": [
              " View run at <a href='https://wandb.ai/rampo/Spatio-Temporal%20Transformer%20fine-tuning/runs/kuzjza0l' target=\"_blank\">https://wandb.ai/rampo/Spatio-Temporal%20Transformer%20fine-tuning/runs/kuzjza0l</a>"
            ],
            "text/plain": [
              "<IPython.core.display.HTML object>"
            ]
          },
          "metadata": {},
          "output_type": "display_data"
        },
        {
          "name": "stdout",
          "output_type": "stream",
          "text": [
            "[Epoch: 1, Iteration:     1]  training loss: 555.293\n",
            "[Epoch: 1, Iteration:   701]  training loss: 107.734\n",
            "[Epoch: 1, Iteration:     1]  validation loss: 103.025\n",
            "[Epoch: 2, Iteration:     1]  training loss: 102.781\n",
            "[Epoch: 2, Iteration:   701]  training loss: 93.623\n",
            "[Epoch: 2, Iteration:     1]  validation loss: 90.255\n",
            "[Epoch: 3, Iteration:     1]  training loss: 94.176\n",
            "[Epoch: 3, Iteration:   701]  training loss: 96.855\n",
            "[Epoch: 3, Iteration:     1]  validation loss: 95.450\n",
            "[Epoch: 4, Iteration:     1]  training loss: 96.870\n",
            "[Epoch: 4, Iteration:   701]  training loss: 95.509\n",
            "[Epoch: 4, Iteration:     1]  validation loss: 89.209\n",
            "[Epoch: 5, Iteration:     1]  training loss: 88.158\n",
            "[Epoch: 5, Iteration:   701]  training loss: 93.298\n",
            "[Epoch: 5, Iteration:     1]  validation loss: 83.830\n",
            "[Epoch: 6, Iteration:     1]  training loss: 90.532\n",
            "[Epoch: 6, Iteration:   701]  training loss: 92.783\n",
            "[Epoch: 6, Iteration:     1]  validation loss: 83.225\n",
            "[Epoch: 7, Iteration:     1]  training loss: 88.432\n",
            "[Epoch: 7, Iteration:   701]  training loss: 89.495\n",
            "[Epoch: 7, Iteration:     1]  validation loss: 84.257\n",
            "[Epoch: 8, Iteration:     1]  training loss: 86.484\n",
            "[Epoch: 8, Iteration:   701]  training loss: 85.207\n",
            "[Epoch: 8, Iteration:     1]  validation loss: 84.154\n",
            "[Epoch: 9, Iteration:     1]  training loss: 88.307\n",
            "[Epoch: 9, Iteration:   701]  training loss: 90.952\n",
            "[Epoch: 9, Iteration:     1]  validation loss: 89.778\n",
            "[Epoch: 10, Iteration:     1]  training loss: 87.870\n",
            "[Epoch: 10, Iteration:   701]  training loss: 82.412\n",
            "[Epoch: 10, Iteration:     1]  validation loss: 80.084\n",
            "[Epoch: 11, Iteration:     1]  training loss: 90.713\n",
            "[Epoch: 11, Iteration:   701]  training loss: 83.130\n",
            "[Epoch: 11, Iteration:     1]  validation loss: 82.505\n",
            "[Epoch: 12, Iteration:     1]  training loss: 82.875\n",
            "[Epoch: 12, Iteration:   701]  training loss: 87.016\n",
            "[Epoch: 12, Iteration:     1]  validation loss: 79.835\n",
            "[Epoch: 13, Iteration:     1]  training loss: 82.109\n",
            "[Epoch: 13, Iteration:   701]  training loss: 83.385\n",
            "[Epoch: 13, Iteration:     1]  validation loss: 79.587\n",
            "[Epoch: 14, Iteration:     1]  training loss: 84.035\n",
            "[Epoch: 14, Iteration:   701]  training loss: 83.259\n",
            "[Epoch: 14, Iteration:     1]  validation loss: 79.025\n",
            "[Epoch: 15, Iteration:     1]  training loss: 83.026\n",
            "[Epoch: 15, Iteration:   701]  training loss: 81.637\n",
            "[Epoch: 15, Iteration:     1]  validation loss: 77.823\n",
            "[Epoch: 16, Iteration:     1]  training loss: 84.294\n",
            "[Epoch: 16, Iteration:   701]  training loss: 85.780\n",
            "[Epoch: 16, Iteration:     1]  validation loss: 76.916\n",
            "[Epoch: 17, Iteration:     1]  training loss: 78.893\n",
            "[Epoch: 17, Iteration:   701]  training loss: 82.181\n",
            "[Epoch: 17, Iteration:     1]  validation loss: 77.654\n",
            "[Epoch: 18, Iteration:     1]  training loss: 87.450\n",
            "[Epoch: 18, Iteration:   701]  training loss: 80.979\n",
            "[Epoch: 18, Iteration:     1]  validation loss: 78.567\n",
            "[Epoch: 19, Iteration:     1]  training loss: 82.860\n",
            "[Epoch: 19, Iteration:   701]  training loss: 86.085\n",
            "[Epoch: 19, Iteration:     1]  validation loss: 76.983\n",
            "[Epoch: 20, Iteration:     1]  training loss: 86.957\n",
            "[Epoch: 20, Iteration:   701]  training loss: 84.038\n",
            "[Epoch: 20, Iteration:     1]  validation loss: 79.910\n",
            "[Epoch: 21, Iteration:     1]  training loss: 85.576\n",
            "[Epoch: 21, Iteration:   701]  training loss: 81.887\n",
            "[Epoch: 21, Iteration:     1]  validation loss: 81.634\n",
            "[Epoch: 22, Iteration:     1]  training loss: 85.152\n",
            "[Epoch: 22, Iteration:   701]  training loss: 79.896\n",
            "[Epoch: 22, Iteration:     1]  validation loss: 76.878\n",
            "[Epoch: 23, Iteration:     1]  training loss: 82.823\n",
            "[Epoch: 23, Iteration:   701]  training loss: 85.373\n",
            "[Epoch: 23, Iteration:     1]  validation loss: 73.133\n",
            "[Epoch: 24, Iteration:     1]  training loss: 78.765\n",
            "[Epoch: 24, Iteration:   701]  training loss: 82.106\n",
            "[Epoch: 24, Iteration:     1]  validation loss: 77.454\n",
            "[Epoch: 25, Iteration:     1]  training loss: 83.432\n",
            "[Epoch: 25, Iteration:   701]  training loss: 89.350\n",
            "[Epoch: 25, Iteration:     1]  validation loss: 75.251\n",
            "[Epoch: 26, Iteration:     1]  training loss: 80.008\n",
            "[Epoch: 26, Iteration:   701]  training loss: 79.592\n",
            "[Epoch: 26, Iteration:     1]  validation loss: 83.274\n",
            "[Epoch: 27, Iteration:     1]  training loss: 83.000\n",
            "[Epoch: 27, Iteration:   701]  training loss: 82.201\n",
            "[Epoch: 27, Iteration:     1]  validation loss: 77.812\n",
            "[Epoch: 28, Iteration:     1]  training loss: 85.501\n",
            "[Epoch: 28, Iteration:   701]  training loss: 84.105\n",
            "[Epoch: 28, Iteration:     1]  validation loss: 82.975\n",
            "[Epoch: 29, Iteration:     1]  training loss: 78.959\n",
            "[Epoch: 29, Iteration:   701]  training loss: 83.746\n",
            "[Epoch: 29, Iteration:     1]  validation loss: 78.518\n",
            "[Epoch: 30, Iteration:     1]  training loss: 79.997\n",
            "[Epoch: 30, Iteration:   701]  training loss: 82.376\n",
            "[Epoch: 30, Iteration:     1]  validation loss: 78.479\n",
            "[Epoch: 31, Iteration:     1]  training loss: 87.481\n",
            "[Epoch: 31, Iteration:   701]  training loss: 76.929\n",
            "[Epoch: 31, Iteration:     1]  validation loss: 79.741\n",
            "[Epoch: 32, Iteration:     1]  training loss: 81.849\n",
            "[Epoch: 32, Iteration:   701]  training loss: 78.750\n",
            "[Epoch: 32, Iteration:     1]  validation loss: 77.071\n",
            "[Epoch: 33, Iteration:     1]  training loss: 82.498\n",
            "[Epoch: 33, Iteration:   701]  training loss: 83.792\n",
            "[Epoch: 33, Iteration:     1]  validation loss: 76.381\n",
            "[Epoch: 34, Iteration:     1]  training loss: 78.901\n",
            "[Epoch: 34, Iteration:   701]  training loss: 84.935\n",
            "[Epoch: 34, Iteration:     1]  validation loss: 79.907\n",
            "[Epoch: 35, Iteration:     1]  training loss: 81.653\n",
            "[Epoch: 35, Iteration:   701]  training loss: 85.575\n",
            "[Epoch: 35, Iteration:     1]  validation loss: 75.705\n",
            "[Epoch: 36, Iteration:     1]  training loss: 83.156\n",
            "[Epoch: 36, Iteration:   701]  training loss: 78.056\n",
            "[Epoch: 36, Iteration:     1]  validation loss: 77.722\n",
            "[Epoch: 37, Iteration:     1]  training loss: 82.120\n",
            "[Epoch: 37, Iteration:   701]  training loss: 80.232\n",
            "[Epoch: 37, Iteration:     1]  validation loss: 76.154\n",
            "[Epoch: 38, Iteration:     1]  training loss: 84.555\n",
            "[Epoch: 38, Iteration:   701]  training loss: 77.632\n",
            "[Epoch: 38, Iteration:     1]  validation loss: 79.602\n",
            "[Epoch: 39, Iteration:     1]  training loss: 79.575\n",
            "[Epoch: 39, Iteration:   701]  training loss: 73.917\n",
            "[Epoch: 39, Iteration:     1]  validation loss: 76.124\n",
            "[Epoch: 40, Iteration:     1]  training loss: 79.319\n",
            "[Epoch: 40, Iteration:   701]  training loss: 79.663\n",
            "[Epoch: 40, Iteration:     1]  validation loss: 78.279\n"
          ]
        },
        {
          "data": {
            "image/png": "[encoded data removed]",
            "text/plain": [
              "<Figure size 640x480 with 1 Axes>"
            ]
          },
          "metadata": {},
          "output_type": "display_data"
        }
      ],
      "source": [
        "save_and_plot = True # save the model and plot the loss. Change to True if you want to save the model and plot the loss\n",
        "\n",
        "# launch training\n",
        "train(data_loader,vald_loader, path_to_save_model=model_path)"
      ]
    },
    {
      "cell_type": "markdown",
      "metadata": {
        "id": "RVcwUPM6BXrd"
      },
      "source": [
        "## Test Loop"
      ]
    },
    {
      "cell_type": "markdown",
      "metadata": {
        "id": "lrR1AEWoBXre"
      },
      "source": [
        "After training and validation, the test loop is the final phase that evaluates the model's performance on an entirely independent dataset known as the test dataset. This dataset is distinct from the training and validation data, ensuring unbiased assessment. The test loop provides a reliable estimate of how well the model will perform in real-world scenarios, confirming that any improvements observed during training and validation are not due to overfitting or chance. It's a crucial step before deploying the model in practical applications."
      ]
    },
    {
      "cell_type": "code",
      "execution_count": 165,
      "metadata": {
        "id": "AjwwPPMNxjJ2"
      },
      "outputs": [],
      "source": [
        "def test(ckpt_path=None):\n",
        "\n",
        "\n",
        "    action_loss_dict = {}\n",
        "    n_test_batches = int(len(data_loader) * lim_n_batches_percent) + 1\n",
        "\n",
        "    model.load_state_dict(torch.load(ckpt_path))\n",
        "    print('model loaded')\n",
        "    model.eval()\n",
        "    accum_loss=0\n",
        "    n_batches=0 # number of batches for all the sequences\n",
        "    actions=define_actions(actions_to_consider_test)\n",
        "    dim_used = np.array([6, 7, 8, 9, 10, 11, 12, 13, 14, 15, 16, 17, 21, 22, 23, 24, 25,\n",
        "                      26, 27, 28, 29, 30, 31, 32, 36, 37, 38, 39, 40, 41, 42, 43, 44, 45,\n",
        "                      46, 47, 51, 52, 53, 54, 55, 56, 57, 58, 59, 63, 64, 65, 66, 67, 68,\n",
        "                      75, 76, 77, 78, 79, 80, 81, 82, 83, 87, 88, 89, 90, 91, 92])\n",
        "    # joints at same loc\n",
        "    joint_to_ignore = np.array([16, 20, 23, 24, 28, 31])\n",
        "    index_to_ignore = np.concatenate((joint_to_ignore * 3, joint_to_ignore * 3 + 1, joint_to_ignore * 3 + 2))\n",
        "    joint_equal = np.array([13, 19, 22, 13, 27, 30])\n",
        "    index_to_equal = np.concatenate((joint_equal * 3, joint_equal * 3 + 1, joint_equal * 3 + 2))\n",
        "    totalll=0\n",
        "    counter=0\n",
        "    for action in actions:\n",
        "      running_loss=0\n",
        "      n=0\n",
        "      dataset_test = datasets.Datasets(path,input_n,output_n,skip_rate, split=2,actions=[action])\n",
        "      #print('>>> test action for sequences: {:d}'.format(dataset_test.__len__()))\n",
        "\n",
        "      test_loader = DataLoader(dataset_test, batch_size=batch_size_test, shuffle=False, num_workers=0, pin_memory=True)\n",
        "      for cnt,batch in enumerate(test_loader):\n",
        "        with torch.no_grad():\n",
        "\n",
        "          batch=batch.to(device)\n",
        "          batch_dim=batch.shape[0]\n",
        "          n+=batch_dim\n",
        "\n",
        "\n",
        "          all_joints_seq=batch.clone()[:, input_n:input_n+output_n,:]\n",
        "\n",
        "          sequences_train=batch[:, 0:input_n, dim_used].view(-1,input_n,len(dim_used)//3,3).permute(0,3,1,2)\n",
        "          sequences_gt=batch[:, input_n:input_n+output_n, :]\n",
        "\n",
        "\n",
        "          running_time = time.time()\n",
        "          sequences_predict=model(sequences_train).view(-1, output_n, joints_to_consider, 3)\n",
        "          #sequences_predict = model(sequences_train)\n",
        "          totalll += time.time()-running_time\n",
        "          counter += 1\n",
        "          sequences_predict=sequences_predict.contiguous().view(-1,output_n,len(dim_used))\n",
        "\n",
        "          all_joints_seq[:,:,dim_used] = sequences_predict\n",
        "\n",
        "\n",
        "          all_joints_seq[:,:,index_to_ignore] = all_joints_seq[:,:,index_to_equal]\n",
        "\n",
        "          loss=mpjpe_error(all_joints_seq.view(-1,output_n,32,3),sequences_gt.view(-1,output_n,32,3))\n",
        "          running_loss+=loss*batch_dim\n",
        "          accum_loss+=loss*batch_dim\n",
        "\n",
        "      #print('loss at test subject for action : '+str(action)+ ' is: '+ str(running_loss/n))\n",
        "      print(str(action),': ', str(np.round((running_loss/n).item(),1)))\n",
        "\n",
        "      action_loss_dict[f\"loss/test/{action}\"] = np.round((running_loss/n).item(),1)\n",
        "\n",
        "      n_batches+=n\n",
        "\n",
        "    action_loss_dict[\"loss/test\"] = np.round((accum_loss/n_batches).item(),1)\n",
        "    #wandb.log(action_loss_dict)\n",
        "\n",
        "    print('Average: '+str(np.round((accum_loss/n_batches).item(),1)))\n",
        "    print('Prediction time: ', totalll/counter)\n",
        "\n"
      ]
    },
    {
      "cell_type": "markdown",
      "metadata": {
        "id": "e2TrFIWDBXre"
      },
      "source": [
        "*Note: Your results should be better than 95 millimiters on average*"
      ]
    },
    {
      "cell_type": "code",
      "execution_count": 166,
      "metadata": {
        "colab": {
          "base_uri": "https://localhost:8080/"
        },
        "id": "CCt0vtOkvCxy",
        "outputId": "b5f97726-73f5-4447-aa54-0aae3e1c2ae4"
      },
      "outputs": [
        {
          "output_type": "stream",
          "name": "stdout",
          "text": [
            "model loaded\n",
            "walking :  61.8\n",
            "eating :  58.8\n",
            "smoking :  59.0\n",
            "discussion :  86.9\n",
            "directions :  78.2\n",
            "greeting :  100.8\n",
            "phoning :  73.8\n",
            "posing :  116.7\n",
            "purchases :  99.7\n",
            "sitting :  86.6\n",
            "sittingdown :  109.1\n",
            "takingphoto :  86.6\n",
            "waiting :  80.9\n",
            "walkingdog :  111.5\n",
            "walkingtogether :  60.7\n",
            "Average: 84.7\n",
            "Prediction time:  0.008254618942737579\n"
          ]
        }
      ],
      "source": [
        "ckpt_path = './checkpoints/h36m_3d_25frames_ckpt_epoch_40.pt' # Change the epoch according to the validation curve\n",
        "test(ckpt_path)"
      ]
    },
    {
      "cell_type": "markdown",
      "metadata": {
        "id": "iELEXXORBXrf"
      },
      "source": [
        "## Human Pose Visualization  (**2 Points**)"
      ]
    },
    {
      "cell_type": "markdown",
      "metadata": {
        "id": "6dShZAp9BXrg"
      },
      "source": [
        "The qualitative results are as important as the quantitative ones. In this section, you will visualize and compare the predicted poses with the ground truth ones.\n",
        "For simplicity, you will visualize only the first predicted pose and the ground truth.\n",
        "\n",
        "Ideally, the same plot should show the predicted pose in red and the ground truth one in green.\n",
        "\n",
        "*Note: you will find which nodes are connected in the file ./models/skeleton_connection.py*"
      ]
    },
    {
      "cell_type": "code",
      "execution_count": null,
      "metadata": {
        "id": "kYxULFpgBXrg"
      },
      "outputs": [],
      "source": [
        "'''\n",
        "Insert your code below\n",
        "'''\n",
        "import numpy as np\n",
        "import torch\n",
        "from torch.utils.data import DataLoader\n",
        "import matplotlib.pyplot as plt\n",
        "from mpl_toolkits.mplot3d import Axes3D\n",
        "import matplotlib.animation as animation\n",
        "from utils import h36motion3d as datasets\n",
        "from utils.loss_funcs import mpjpe_error\n",
        "from utils.data_utils import define_actions\n",
        "\n",
        "# Define the function for creating the pose visualization\n",
        "def create_pose(ax, plots, vals, pred=True, update=False):\n",
        "    # Define connections between joints and their properties\n",
        "    connect = [(1, 2), (2, 3), (3, 4), (4, 5), (6, 7), (7, 8), (8, 9), (9, 10),\n",
        "               (0, 1), (0, 6), (6, 17), (17, 18), (18, 19), (19, 20), (20, 21), (21, 22),\n",
        "               (1, 25), (25, 26), (26, 27), (27, 28), (28, 29), (29, 30), (24, 25),\n",
        "               (24, 17), (24, 14), (14, 15)]\n",
        "\n",
        "    # Specify whether joints are on the left or right side\n",
        "    LR = [False, True, True, True, True, True, False, False, False, False, False, True, True, True, True, True,\n",
        "          True, False, False, False, False, False, False, False, True, False, True, True, True, True, True, True]\n",
        "\n",
        "    # Start and endpoints of our representation\n",
        "    I = np.array([touple[0] for touple in connect])\n",
        "    J = np.array([touple[1] for touple in connect])\n",
        "\n",
        "    #green = prediction\n",
        "    if pred:\n",
        "        lcolor = \"green\"\n",
        "        rcolor = \"green\"\n",
        "\n",
        "    #red = gt\n",
        "    else:\n",
        "        lcolor = \"red\"\n",
        "        rcolor = \"red\"\n",
        "\n",
        "    for i in np.arange(len(I)):\n",
        "        x = np.array([vals[I[i], 0], vals[J[i], 0]])\n",
        "        z = np.array([vals[I[i], 1], vals[J[i], 1]])\n",
        "        y = np.array([vals[I[i], 2], vals[J[i], 2]])\n",
        "\n",
        "        if not update:\n",
        "            if i == 0:\n",
        "                plots.append(ax.plot(x, y, z, lw=2, linestyle='--', c=lcolor if LR[i] else rcolor, label=['Input Frames' if not pred else 'Predicted Frames']))\n",
        "            else:\n",
        "                plots.append(ax.plot(x, y, z, lw=2, linestyle='--', c=lcolor if LR[i] else rcolor))\n",
        "        elif update:\n",
        "            plots[i][0].set_xdata(x)\n",
        "            plots[i][0].set_ydata(y)\n",
        "            plots[i][0].set_3d_properties(z)\n",
        "            plots[i][0].set_color(lcolor if LR[i] else rcolor)\n",
        "\n",
        "    return plots\n",
        "\n",
        "# Define the update function for the animation\n",
        "def update(num, data_gt, data_pred, plots_gt, plots_pred, fig, ax):\n",
        "    gt_vals = data_gt[num]\n",
        "    pred_vals = data_pred[num]\n",
        "\n",
        "    #print(\"data_gt\")\n",
        "    #print(data_gt[0])\n",
        "\n",
        "    #print(\"data_pred\")\n",
        "    #print(data_pred[0])\n",
        "\n",
        "    #print(\"gt_vals\")\n",
        "    #print(gt_vals)\n",
        "    #print(\"pred vals\")\n",
        "    #print(pred_vals)\n",
        "    plots_gt = create_pose(ax, plots_gt, gt_vals, pred=False, update=True)\n",
        "    plots_pred = create_pose(ax, plots_pred, pred_vals, pred=True, update=True)\n",
        "\n",
        "    r = 0.75\n",
        "    xroot, zroot, yroot = pred_vals[0, 0], pred_vals[0, 1], pred_vals[0, 2]\n",
        "    ax.set_xlim3d([-r + xroot, r + xroot])\n",
        "    ax.set_ylim3d([-r + yroot, r + yroot])\n",
        "    ax.set_zlim3d([-r + zroot, r + zroot])\n",
        "\n",
        "    return plots_gt, plots_pred\n",
        "\n",
        "# Define the visualization function\n",
        "def visualize(input_n, output_n, visualize_from, path, modello, device, n_viz, skip_rate, actions):\n",
        "    actions = define_actions(actions)\n",
        "\n",
        "    modello.load_state_dict(torch.load(ckpt_path))\n",
        "\n",
        "    for action in actions:\n",
        "        if visualize_from == 'train':\n",
        "            loader = datasets.Datasets(path, input_n, output_n, skip_rate, split=0, actions=[action])\n",
        "        elif visualize_from == 'validation':\n",
        "            loader = datasets.Datasets(path, input_n, output_n, skip_rate, split=1, actions=[action])\n",
        "        elif visualize_from == 'test':\n",
        "            loader = datasets.Datasets(path, input_n, output_n, skip_rate, split=2, actions=[action])\n",
        "\n",
        "        dim_used = np.array([6, 7, 8, 9, 10, 11, 12, 13, 14, 15, 16, 17, 21, 22, 23, 24, 25, 26, 27, 28, 29, 30, 31, 32, 36, 37, 38, 39, 40, 41, 42, 43, 44, 45, 46, 47, 51, 52, 53, 54, 55, 56, 57, 58, 59, 63, 64, 65, 66, 67, 68, 75, 76, 77, 78, 79, 80, 81, 82, 83, 87, 88, 89, 90, 91, 92])\n",
        "        joint_to_ignore = np.array([16, 20, 23, 24, 28, 31])\n",
        "        index_to_ignore = np.concatenate((joint_to_ignore * 3, joint_to_ignore * 3 + 1, joint_to_ignore * 3 + 2))\n",
        "        joint_equal = np.array([13, 19, 22, 13, 27, 30])\n",
        "        index_to_equal = np.concatenate((joint_equal * 3, joint_equal * 3 + 1, joint_equal * 3 + 2))\n",
        "\n",
        "        loader = DataLoader(loader, batch_size=1, shuffle=True, num_workers=0)\n",
        "\n",
        "        # predict poses\n",
        "        for cnt, batch in enumerate(loader):\n",
        "            batch = batch.to(device)\n",
        "\n",
        "            all_joints_seq = batch.clone()[:, input_n:input_n + output_n, :]\n",
        "\n",
        "            sequences_train = batch[:, 0:input_n, dim_used].view(-1, input_n, len(dim_used)//3, 3).permute(0, 3, 1, 2)\n",
        "            sequences_gt = batch[:, input_n:input_n + output_n, :]\n",
        "\n",
        "            # shape is batch,n_frames,n_joints * 3(xyz)\n",
        "            sequences_predict = modello(sequences_train).contiguous().view(-1, output_n, len(dim_used))\n",
        "\n",
        "            all_joints_seq[:, :, dim_used] = sequences_predict\n",
        "\n",
        "            all_joints_seq[:, :, index_to_ignore] = all_joints_seq[:, :, index_to_equal]\n",
        "\n",
        "            all_joints_seq = all_joints_seq.view(-1, output_n, 32, 3)\n",
        "            sequences_gt = sequences_gt.view(-1, output_n, 32, 3)\n",
        "\n",
        "            loss = mpjpe_error(all_joints_seq, sequences_gt)\n",
        "\n",
        "            data_pred = torch.squeeze(all_joints_seq, 0).cpu().data.numpy() /1000  # in meters\n",
        "            data_gt = torch.squeeze(sequences_gt, 0).cpu().data.numpy() / 1000\n",
        "\n",
        "            fig = plt.figure()\n",
        "            # create the three axes\n",
        "            ax = fig.add_subplot(111, projection='3d')\n",
        "            # 32 is the number of joints, 3 is the directions\n",
        "            vals = np.zeros((32, 3))\n",
        "            gt_plots = []\n",
        "            pred_plots = []\n",
        "\n",
        "            gt_plots = create_pose(ax, gt_plots, vals, pred=False, update=False)\n",
        "            pred_plots = create_pose(ax, pred_plots, vals, pred=True, update=False)\n",
        "\n",
        "            ax.set_xlabel(\"x\")\n",
        "            ax.set_ylabel(\"y\")\n",
        "            ax.set_zlabel(\"z\")\n",
        "            ax.set_axis_off()\n",
        "            ax.legend(loc='lower left')\n",
        "\n",
        "            ax.set_xlim3d([-1, 1.5])\n",
        "            ax.set_xlabel('X')\n",
        "\n",
        "            ax.set_ylim3d([-1, 1.5])\n",
        "            ax.set_ylabel('Y')\n",
        "\n",
        "            ax.set_zlim3d([0.0, 1.5])\n",
        "            ax.set_zlabel('Z')\n",
        "\n",
        "            # create animation using update function (output_n specifies the number of frame to generate)\n",
        "            line_anim = animation.FuncAnimation(fig, update, output_n, fargs=(data_gt, data_pred, gt_plots, pred_plots, fig, ax), interval=70, blit=False)\n",
        "\n",
        "            line_anim.save('human_viz2.gif', writer='pillow')\n",
        "\n",
        "            if cnt == n_viz - 1:\n",
        "                break\n",
        "\n",
        "            #break\n",
        "\n",
        "        #break\n"
      ]
    },
    {
      "cell_type": "code",
      "execution_count": null,
      "metadata": {
        "id": "jTsNyarOAXuc"
      },
      "outputs": [],
      "source": [
        "'''\n",
        "Insert your code below\n",
        "'''\n",
        "# instantiate the a new model as before\n",
        "model = Model(num_joints=joints_to_consider,\n",
        "                 num_frames=input_n, num_frames_out=output_n, num_heads=n_heads,\n",
        "                 num_channels=3, kernel_size=[3,3], use_pes=True).to(device)\n",
        "\n",
        "# n_viz = 1 only one gif\n",
        "visualize(input_n, output_n, visualize_from=visualize_from, path=path, modello=model, device=device,n_viz=n_viz, skip_rate=1, actions=actions_to_consider_viz)\n"
      ]
    },
    {
      "cell_type": "markdown",
      "metadata": {
        "id": "Mfh69SDiBXrh"
      },
      "source": [
        "## Report and Parameter Fine-Tuning Analysis  (**4 Points**)"
      ]
    },
    {
      "cell_type": "markdown",
      "metadata": {
        "id": "kOcLSDxkBXrh"
      },
      "source": [
        "**Objective:** In this exercise, you will analyze the results obtained from a deep learning model you previously trained and perform parameter fine-tuning to optimize its performance. The key considerations are learning rate, milestones, and weight decay. **You will also use tables and plots to visualize and interpret the outcomes.**\n",
        "\n",
        "**Instructions:**\n",
        "\n",
        "1. **Analysis:** Analyze the generated report and answer the following questions:\n",
        "   - Is there evidence of overfitting or underfitting in the initial training results?\n",
        "   - Are there fluctuations in training and validation loss or accuracy? If so, what might be causing them?\n",
        "   - What can you infer from the initial learning rate, milestones, and weight decay settings?\n",
        "\n",
        "2. **Parameter Fine-Tuning:** Based on your analysis, perform parameter fine-tuning to optimize model performance. Adjust the following parameters:\n",
        "   - **Learning Rate:** Experiment with different learning rates (higher and lower values) to find an optimal rate.\n",
        "   - **Milestones:** Modify the milestone values for adjusting the learning rate schedule.\n",
        "   - **Weight Decay:** Explore different weight decay values.\n",
        "   \n",
        "\n",
        "3. **Re-Training:** Train the model with the adjusted hyperparameters. Record the training progress and generate a new report, including performance metrics and line plots as before.\n",
        "\n",
        "4. **Final Analysis:** Analyze the results of the fine-tuned model and compare them with the initial training. Answer the following questions:\n",
        "   - Has parameter fine-tuning improved model performance?\n",
        "   - Did it mitigate overfitting or underfitting issues?\n",
        "   - What can you conclude about the optimal hyperparameters for this task?\n"
      ]
    },
    {
      "cell_type": "markdown",
      "metadata": {
        "id": "hi3ybeUnBXrh"
      },
      "source": [
        "## Calculating MPJPE for a Specific Frame  (**2 Points**)"
      ]
    },
    {
      "cell_type": "markdown",
      "metadata": {
        "id": "QscgEyYVBXrh"
      },
      "source": [
        "\n",
        "In this exercise, you will calculate the Mean Per Joint Position Error (MPJPE) for a specific frame. This skill is valuable for assessing the accuracy of your model's predictions at a particular moment.\n",
        "\n",
        "\\begin{align*}\n",
        "\\text{MPJPE}_t = \\frac{1}{N} \\sum_{j=1}^{J} \\left\\| P_{\\text{predicted}_{t,j}} - P_{\\text{gt}_{t,j}} \\right\\|\n",
        "\\end{align*}\n",
        "\n",
        "Fixed the frame $t$, you will calculate the MPJPE for the predicted pose and the ground truth. Steps:\n",
        "\n",
        "- Write a function that takes in input the predicted pose and the ground truth one and returns the MPJPE for a number of frames $t$. (e.g. the output could be a dictionary with the frame number as key and the MPJPE as value)\n",
        "- Rewrite the test function to use the function you just wrote.\n",
        "- Run the newly created test function for $t=[5, 10, 15, 25]$ and report the results in a table and plot.\n",
        "\n",
        "\n",
        "\n"
      ]
    },
    {
      "cell_type": "code",
      "execution_count": 112,
      "metadata": {
        "id": "mYQK7SB2BXri"
      },
      "outputs": [],
      "source": [
        "from utils.loss_funcs import mpjpe_error\n",
        "\n",
        "def mpjpe_per_frame(sequences_predict,sequences_gt, frames_to_consider):\n",
        "    '''\n",
        "    Insert your code below\n",
        "    '''\n",
        "\n",
        "    #create the dictionary\n",
        "    results = {}\n",
        "\n",
        "    #select only the frames to consider\n",
        "    for frame in frames_to_consider:\n",
        "\n",
        "      #(8,25,96)\n",
        "      #select the predicted frame and the grounf truth frame\n",
        "      pred_frame = sequences_predict[:,frame-1]\n",
        "      gt_frame = sequences_gt[:,frame-1]\n",
        "\n",
        "      sequences_predict[:,frame-1]\n",
        "\n",
        "      #calculate the error with the utils function\n",
        "      error = mpjpe_error(pred_frame, gt_frame).item()\n",
        "\n",
        "      #save in a dictionary\n",
        "      results[frame] = error\n",
        "    return results"
      ]
    },
    {
      "cell_type": "code",
      "execution_count": 113,
      "metadata": {
        "id": "w0arCQrDBXri"
      },
      "outputs": [],
      "source": [
        "def test_per_frame(ckpt_path=None):\n",
        "    model.load_state_dict(torch.load(ckpt_path))\n",
        "    print('model loaded')\n",
        "    model.eval()\n",
        "    accum_loss=0\n",
        "\n",
        "\n",
        "    ############################\n",
        "    #aggiunto da noi\n",
        "    action_mpjpe_dict = {}\n",
        "    total_loss_per_frame = {5: 0, 10: 0, 15: 0, 25: 0}\n",
        "    total_sequences = 0\n",
        "\n",
        "    ############################\n",
        "\n",
        "    n_batches=0 # number of batches for all the sequences\n",
        "    actions=define_actions(actions_to_consider_test)\n",
        "    dim_used = np.array([6, 7, 8, 9, 10, 11, 12, 13, 14, 15, 16, 17, 21, 22, 23, 24, 25,\n",
        "                      26, 27, 28, 29, 30, 31, 32, 36, 37, 38, 39, 40, 41, 42, 43, 44, 45,\n",
        "                      46, 47, 51, 52, 53, 54, 55, 56, 57, 58, 59, 63, 64, 65, 66, 67, 68,\n",
        "                      75, 76, 77, 78, 79, 80, 81, 82, 83, 87, 88, 89, 90, 91, 92])\n",
        "\n",
        "    # joints at same loc\n",
        "    joint_to_ignore = np.array([16, 20, 23, 24, 28, 31])\n",
        "    index_to_ignore = np.concatenate((joint_to_ignore * 3, joint_to_ignore * 3 + 1, joint_to_ignore * 3 + 2))\n",
        "    joint_equal = np.array([13, 19, 22, 13, 27, 30])\n",
        "    index_to_equal = np.concatenate((joint_equal * 3, joint_equal * 3 + 1, joint_equal * 3 + 2))\n",
        "    totalll=0\n",
        "    counter=0\n",
        "    for action in actions:\n",
        "      running_loss=0\n",
        "      n=0\n",
        "      dataset_test = datasets.Datasets(path,input_n,output_n,skip_rate, split=2,actions=[action])\n",
        "      #print('>>> test action for sequences: {:d}'.format(dataset_test.__len__()))\n",
        "\n",
        "      test_loader = DataLoader(dataset_test, batch_size=batch_size_test, shuffle=False, num_workers=0, pin_memory=True)\n",
        "      for cnt,batch in enumerate(test_loader):\n",
        "        with torch.no_grad():\n",
        "\n",
        "          batch=batch.to(device)\n",
        "          batch_dim=batch.shape[0]\n",
        "          n+=batch_dim\n",
        "\n",
        "\n",
        "          all_joints_seq=batch.clone()[:, input_n:input_n+output_n,:]\n",
        "\n",
        "          sequences_train=batch[:, 0:input_n, dim_used].view(-1,input_n,len(dim_used)//3,3).permute(0,3,1,2)\n",
        "          sequences_gt=batch[:, input_n:input_n+output_n, :]\n",
        "\n",
        "\n",
        "          running_time = time.time()\n",
        "          sequences_predict=model(sequences_train).view(-1, output_n, joints_to_consider, 3)\n",
        "          #sequences_predict = model(sequences_train)\n",
        "          totalll += time.time()-running_time\n",
        "          counter += 1\n",
        "          sequences_predict=sequences_predict.contiguous().view(-1,output_n,len(dim_used))\n",
        "\n",
        "          all_joints_seq[:,:,dim_used] = sequences_predict\n",
        "\n",
        "\n",
        "          all_joints_seq[:,:,index_to_ignore] = all_joints_seq[:,:,index_to_equal]\n",
        "\n",
        "          '''\n",
        "          Insert your code below.\n",
        "          The function mpjpe_per_frame should return the loss for each frame in the sequence. (e.g. a dictionary with keys the frames and values the loss for each frame)\n",
        "          Keep a tab of the running loss for each frame and the number of frames in the sequence.\n",
        "          '''\n",
        "          frames_to_consider = [5, 10, 15, 25]\n",
        "\n",
        "          #get the mpjpe error\n",
        "          dict_loss = mpjpe_per_frame(all_joints_seq, sequences_gt, frames_to_consider)\n",
        "\n",
        "          #sum the value with respect to the frame\n",
        "          for frame, loss in dict_loss.items():\n",
        "                total_loss_per_frame[frame] += loss\n",
        "\n",
        "          #TODO check counter: questo contatore potrebbe essere inutile\n",
        "          total_sequences += 1\n",
        "\n",
        "      '''\n",
        "      Insert your code below.\n",
        "      Average the loss over all the frames in the sequence and print the results.\n",
        "      '''\n",
        "\n",
        "      #now we need to do the average\n",
        "      avg_loss_per_frame = {frame: loss / total_sequences for frame, loss in total_loss_per_frame.items()}\n",
        "\n",
        "      #print the result for every action\n",
        "      print(str(action),': ', str(avg_loss_per_frame))\n",
        "\n",
        "      #update the dictionary\n",
        "      action_mpjpe_dict[f\"avg_loss_per_frame/{action}\"] = avg_loss_per_frame\n",
        "\n",
        "    #return the dictionary (not asked but it might be usefull later on)\n",
        "    return action_mpjpe_dict\n"
      ]
    },
    {
      "cell_type": "code",
      "execution_count": 114,
      "metadata": {
        "colab": {
          "base_uri": "https://localhost:8080/"
        },
        "id": "U9sky2L9BXrj",
        "outputId": "7392b95d-e38f-4870-876e-3feb806fe233"
      },
      "outputs": [
        {
          "output_type": "stream",
          "name": "stdout",
          "text": [
            "model loaded\n",
            "walking :  {5: 44.32815420627594, 10: 64.00082993507385, 15: 68.15737843513489, 25: 84.83458387851715}\n",
            "eating :  {5: 39.98060429096222, 10: 58.07935589551926, 15: 67.38003921508789, 25: 86.27773660421371}\n",
            "smoking :  {5: 39.704097052415214, 10: 57.108338038126625, 15: 66.61454304059346, 25: 84.7838278611501}\n",
            "discussion :  {5: 42.39425779879093, 10: 62.94074243307114, 15: 75.52508652210236, 25: 94.5915487408638}\n",
            "directions :  {5: 42.80865187644959, 10: 64.99470739364624, 15: 78.50930118560791, 25: 98.44614200592041}\n",
            "greeting :  {5: 45.65099300940832, 10: 70.08042653401692, 15: 84.89530710379283, 25: 106.08230217297871}\n",
            "phoning :  {5: 45.28975030354091, 10: 69.40071739469256, 15: 84.68185901641846, 25: 107.0617937701089}\n",
            "posing :  {5: 47.2402161359787, 10: 73.39574255049229, 15: 91.0595914721489, 25: 116.3053272664547}\n",
            "purchases :  {5: 48.8585504160987, 10: 75.45564100477431, 15: 93.63328165478177, 25: 119.16542241308424}\n",
            "sitting :  {5: 49.21282447576523, 10: 75.55675045251846, 15: 94.04832285642624, 25: 119.95459114313125}\n",
            "sittingdown :  {5: 51.222297018224545, 10: 77.51477546041662, 15: 96.60574231364511, 25: 123.21797595240854}\n",
            "takingphoto :  {5: 51.209738194942474, 10: 77.370742837588, 15: 96.72384072343509, 25: 123.79891350865364}\n",
            "waiting :  {5: 50.9602656181042, 10: 77.19217061079465, 15: 96.44687350896689, 25: 123.36554143062004}\n",
            "walkingdog :  {5: 52.71506794861385, 10: 79.23389590638024, 15: 98.41058846030917, 25: 125.75902256795338}\n",
            "walkingtogether :  {5: 51.83750867843628, 10: 77.91046815713247, 15: 96.47457219759623, 25: 122.98799773057301}\n"
          ]
        }
      ],
      "source": [
        "'''\n",
        "Insert your code below where you want to load the model and test it.\n",
        "You need to specify the path to the model checkpoint file and call the test function.\n",
        "'''\n",
        "ckpt_path = './checkpoints/h36m_3d_25frames_ckpt_epoch_40.pt'\n",
        "dic_error_per_frame = test_per_frame(ckpt_path)"
      ]
    },
    {
      "cell_type": "markdown",
      "metadata": {
        "id": "sVcNnOJMBXrk"
      },
      "source": [
        "## Iterative Mechanism (**3 Points**)"
      ]
    },
    {
      "cell_type": "markdown",
      "metadata": {
        "id": "NSSW3wgYBXrk"
      },
      "source": [
        "In this exercise, you will explore the concept of an iterative mechanism and its adaptability when the model's output length changes. You will start with a model designed to produce 25 output frames but adapt it to generate only 10. The exercise will involve modifying and re-training the model for the new output length. During test time, the model will generate 10 frames and then use them as input to generate the successive 10 frames, and so on, until the desired number of frames is reached. In this case, you are asked to generate 25 frames.\n",
        "\n",
        "The steps are as follows:\n",
        "- Change the model's output length from 25 to 10.\n",
        "- Re-train the model.\n",
        "- Rewrite the test function to generate 25 frames using the iterative mechanism.\n",
        "- Generate a new report and compare the results to the baseline model."
      ]
    },
    {
      "cell_type": "code",
      "execution_count": 139,
      "metadata": {
        "id": "Bas-0-OHBXrk"
      },
      "outputs": [],
      "source": [
        "# # Arguments to setup the datasets\n",
        "datas = 'h36m' # dataset name\n",
        "\n",
        "#this was changed to the path of the dataset\n",
        "path = './data/h3.6m/h3.6m/dataset'\n",
        "input_n=10 # number of frames to train on (default=10)\n",
        "\n",
        "'''\n",
        "Insert your code below\n",
        "'''\n",
        "output_n= 10 # number of frames to predict on\n",
        "\n",
        "input_dim=3 # dimensions of the input coordinates(default=3)\n",
        "skip_rate=1 # # skip rate of frames\n",
        "joints_to_consider=22\n",
        "\n",
        "#FLAGS FOR THE TRAINING\n",
        "mode='train' #choose either train or test mode\n",
        "\n",
        "batch_size_test=8\n",
        "model_path_iterative= './checkpoints_iterative/' # path to the model checkpoint file\n",
        "\n",
        "actions_to_consider_test='all' # actions to test on.\n",
        "model_name = datas+'_3d_'+str(output_n)+'frames_ckpt' #the model name to save/load\n",
        "\n",
        "#FLAGS FOR THE VISUALIZATION\n",
        "actions_to_consider_viz='all' # actions to visualize\n",
        "visualize_from='test'\n",
        "n_viz=2\n"
      ]
    },
    {
      "cell_type": "code",
      "execution_count": 140,
      "metadata": {
        "colab": {
          "base_uri": "https://localhost:8080/"
        },
        "id": "hMoSKaitBXrl",
        "outputId": "ec97fbfb-9a69-495d-eaca-0102078c956f"
      },
      "outputs": [
        {
          "output_type": "stream",
          "name": "stdout",
          "text": [
            "Loading Train Dataset...\n"
          ]
        },
        {
          "output_type": "stream",
          "name": "stderr",
          "text": [
            "/content/drive/MyDrive/AML/Practice/utils/h36motion3d.py:30: VisibleDeprecationWarning: Creating an ndarray from ragged nested sequences (which is a list-or-tuple of lists-or-tuples-or ndarrays with different lengths or shapes) is deprecated. If you meant to do this, you must specify 'dtype=object' when creating the ndarray.\n",
            "  subs = np.array([[1, 6, 7, 8, 9], [11], [5]]) # , 6, 7, 8, 9\n"
          ]
        },
        {
          "output_type": "stream",
          "name": "stdout",
          "text": [
            "Loading Validation Dataset...\n"
          ]
        }
      ],
      "source": [
        "# Load Data\n",
        "print('Loading Train Dataset...')\n",
        "dataset = datasets.Datasets(path,input_n, output_n,skip_rate, split=0)\n",
        "\n",
        "#dataset = datasets.Datasets(path,input_n,output_n,skip_rate, split=0)\n",
        "print('Loading Validation Dataset...')\n",
        "vald_dataset = datasets.Datasets(path,input_n,25,skip_rate, split=1)\n",
        "\n",
        "#! Note: Ignore warning:  \"VisibleDeprecationWarning: Creating an ndarray from ragged nested sequences\""
      ]
    },
    {
      "cell_type": "code",
      "execution_count": 141,
      "metadata": {
        "id": "aRFyVcL9BXrl",
        "colab": {
          "base_uri": "https://localhost:8080/"
        },
        "outputId": "23be0ff3-ec8e-4b0d-d4d7-e45972d1fa01"
      },
      "outputs": [
        {
          "output_type": "stream",
          "name": "stdout",
          "text": [
            ">>> Training dataset length: 182327\n",
            ">>> Validation dataset length: 28110\n"
          ]
        }
      ],
      "source": [
        "batch_size=256\n",
        "\n",
        "print('>>> Training dataset length: {:d}'.format(dataset.__len__()))\n",
        "data_loader = DataLoader(dataset, batch_size=batch_size, shuffle=True, num_workers=0, pin_memory=True)#\n",
        "\n",
        "print('>>> Validation dataset length: {:d}'.format(vald_dataset.__len__()))\n",
        "vald_loader = DataLoader(vald_dataset, batch_size=batch_size, shuffle=True, num_workers=0, pin_memory=True)"
      ]
    },
    {
      "cell_type": "code",
      "execution_count": 142,
      "metadata": {
        "colab": {
          "base_uri": "https://localhost:8080/"
        },
        "id": "_7OAb9s6BXrl",
        "outputId": "293788c9-c658-41f9-a824-dc278633bd35"
      },
      "outputs": [
        {
          "output_type": "stream",
          "name": "stdout",
          "text": [
            "Using device: cuda\n",
            "total number of parameters of the network is: 26694\n"
          ]
        }
      ],
      "source": [
        "from models.sttr.sttformer import Model\n",
        "device = torch.device('cuda' if torch.cuda.is_available() else 'cpu')\n",
        "print('Using device: %s'%device)\n",
        "\n",
        "n_heads = 1\n",
        "\n",
        "model = Model(num_joints=joints_to_consider,\n",
        "                 num_frames=input_n, num_frames_out=output_n, num_heads=n_heads,\n",
        "                 num_channels=3, kernel_size=[3,3], use_pes=True).to(device)\n",
        "\n",
        "print('total number of parameters of the network is: '+str(sum(p.numel() for p in model.parameters() if p.requires_grad)))"
      ]
    },
    {
      "cell_type": "code",
      "execution_count": 143,
      "metadata": {
        "id": "aYdpdrcmBXrl"
      },
      "outputs": [],
      "source": [
        "# Arguments to setup the optimizer\n",
        "lr=1e-01 # learning rate\n",
        "use_scheduler=True # use MultiStepLR scheduler\n",
        "milestones=[10,30]   # the epochs after which the learning rate is adjusted by gamma\n",
        "gamma=0.1 #gamma correction to the learning rate, after reaching the milestone epochs\n",
        "weight_decay=1e-05 # weight decay (L2 penalty)\n",
        "optimizer=optim.Adam(model.parameters(),lr=lr,weight_decay=weight_decay)\n",
        "\n",
        "if use_scheduler:\n",
        "    scheduler = optim.lr_scheduler.MultiStepLR(optimizer, milestones=milestones, gamma=gamma)\n",
        "\n",
        "clip_grad=None # select max norm to clip gradients\n",
        "# Argument for training\n",
        "n_epochs=41\n",
        "log_step = 200"
      ]
    },
    {
      "cell_type": "markdown",
      "metadata": {
        "id": "W3_T38zzBXrm"
      },
      "source": [
        "### Train and Validation Loop"
      ]
    },
    {
      "cell_type": "code",
      "execution_count": null,
      "metadata": {
        "id": "Ps_FldQMBXrm"
      },
      "outputs": [],
      "source": [
        "save_and_plot = True # save the model and plot the loss. Change to True if you want to save the model and plot the loss"
      ]
    },
    {
      "cell_type": "code",
      "execution_count": null,
      "metadata": {
        "colab": {
          "base_uri": "https://localhost:8080/",
          "height": 1000
        },
        "id": "EaiHzL3lBXrm",
        "outputId": "273c2a13-10a8-4bd7-d416-3224f7da3f07"
      },
      "outputs": [
        {
          "data": {
            "text/html": [
              "Finishing last run (ID:0mmllljh) before initializing another..."
            ],
            "text/plain": [
              "<IPython.core.display.HTML object>"
            ]
          },
          "metadata": {},
          "output_type": "display_data"
        },
        {
          "data": {
            "text/html": [
              "Waiting for W&B process to finish... <strong style=\"color:green\">(success).</strong>"
            ],
            "text/plain": [
              "<IPython.core.display.HTML object>"
            ]
          },
          "metadata": {},
          "output_type": "display_data"
        },
        {
          "data": {
            "text/html": [
              " View run <strong style=\"color:#cdcd00\">rich-pine-4</strong> at: <a href='https://wandb.ai/rampo/Spatio-Temporal%20Transformer%20fine-tuning/runs/0mmllljh' target=\"_blank\">https://wandb.ai/rampo/Spatio-Temporal%20Transformer%20fine-tuning/runs/0mmllljh</a><br/>Synced 5 W&B file(s), 0 media file(s), 0 artifact file(s) and 0 other file(s)"
            ],
            "text/plain": [
              "<IPython.core.display.HTML object>"
            ]
          },
          "metadata": {},
          "output_type": "display_data"
        },
        {
          "data": {
            "text/html": [
              "Find logs at: <code>./wandb/run-20231023_170634-0mmllljh/logs</code>"
            ],
            "text/plain": [
              "<IPython.core.display.HTML object>"
            ]
          },
          "metadata": {},
          "output_type": "display_data"
        },
        {
          "data": {
            "text/html": [
              "Successfully finished last run (ID:0mmllljh). Initializing new run:<br/>"
            ],
            "text/plain": [
              "<IPython.core.display.HTML object>"
            ]
          },
          "metadata": {},
          "output_type": "display_data"
        },
        {
          "data": {
            "text/html": [
              "Tracking run with wandb version 0.15.12"
            ],
            "text/plain": [
              "<IPython.core.display.HTML object>"
            ]
          },
          "metadata": {},
          "output_type": "display_data"
        },
        {
          "data": {
            "text/html": [
              "Run data is saved locally in <code>/content/drive/MyDrive/AML/Practice/wandb/run-20231023_170806-sls9u2b6</code>"
            ],
            "text/plain": [
              "<IPython.core.display.HTML object>"
            ]
          },
          "metadata": {},
          "output_type": "display_data"
        },
        {
          "data": {
            "text/html": [
              "Syncing run <strong><a href='https://wandb.ai/rampo/Spatio-Temporal%20Transformer%20fine-tuning/runs/sls9u2b6' target=\"_blank\">electric-armadillo-5</a></strong> to <a href='https://wandb.ai/rampo/Spatio-Temporal%20Transformer%20fine-tuning' target=\"_blank\">Weights & Biases</a> (<a href='https://wandb.me/run' target=\"_blank\">docs</a>)<br/>"
            ],
            "text/plain": [
              "<IPython.core.display.HTML object>"
            ]
          },
          "metadata": {},
          "output_type": "display_data"
        },
        {
          "data": {
            "text/html": [
              " View project at <a href='https://wandb.ai/rampo/Spatio-Temporal%20Transformer%20fine-tuning' target=\"_blank\">https://wandb.ai/rampo/Spatio-Temporal%20Transformer%20fine-tuning</a>"
            ],
            "text/plain": [
              "<IPython.core.display.HTML object>"
            ]
          },
          "metadata": {},
          "output_type": "display_data"
        },
        {
          "data": {
            "text/html": [
              " View run at <a href='https://wandb.ai/rampo/Spatio-Temporal%20Transformer%20fine-tuning/runs/sls9u2b6' target=\"_blank\">https://wandb.ai/rampo/Spatio-Temporal%20Transformer%20fine-tuning/runs/sls9u2b6</a>"
            ],
            "text/plain": [
              "<IPython.core.display.HTML object>"
            ]
          },
          "metadata": {},
          "output_type": "display_data"
        },
        {
          "name": "stdout",
          "output_type": "stream",
          "text": [
            "[Epoch: 1, Iteration:     1]  training loss: 561.468\n",
            "[Epoch: 1, Iteration:   201]  training loss: 100.764\n",
            "[Epoch: 1, Iteration:   401]  training loss: 81.175\n",
            "[Epoch: 1, Iteration:   601]  training loss: 79.338\n",
            "[Epoch: 1, Iteration:     1]  validation loss: 70.752\n",
            "[Epoch: 2, Iteration:     1]  training loss: 71.223\n",
            "[Epoch: 2, Iteration:   201]  training loss: 71.027\n",
            "[Epoch: 2, Iteration:   401]  training loss: 67.543\n",
            "[Epoch: 2, Iteration:   601]  training loss: 67.209\n",
            "[Epoch: 2, Iteration:     1]  validation loss: 69.046\n",
            "[Epoch: 3, Iteration:     1]  training loss: 68.254\n",
            "[Epoch: 3, Iteration:   201]  training loss: 65.446\n",
            "[Epoch: 3, Iteration:   401]  training loss: 64.769\n",
            "[Epoch: 3, Iteration:   601]  training loss: 62.314\n",
            "[Epoch: 3, Iteration:     1]  validation loss: 73.221\n",
            "[Epoch: 4, Iteration:     1]  training loss: 62.883\n",
            "[Epoch: 4, Iteration:   201]  training loss: 60.926\n",
            "[Epoch: 4, Iteration:   401]  training loss: 58.821\n",
            "[Epoch: 4, Iteration:   601]  training loss: 58.597\n",
            "[Epoch: 4, Iteration:     1]  validation loss: 52.677\n",
            "[Epoch: 5, Iteration:     1]  training loss: 60.922\n",
            "[Epoch: 5, Iteration:   201]  training loss: 60.548\n",
            "[Epoch: 5, Iteration:   401]  training loss: 56.829\n",
            "[Epoch: 5, Iteration:   601]  training loss: 58.661\n",
            "[Epoch: 5, Iteration:     1]  validation loss: 68.203\n",
            "[Epoch: 6, Iteration:     1]  training loss: 68.784\n",
            "[Epoch: 6, Iteration:   201]  training loss: 58.111\n",
            "[Epoch: 6, Iteration:   401]  training loss: 57.979\n",
            "[Epoch: 6, Iteration:   601]  training loss: 56.347\n",
            "[Epoch: 6, Iteration:     1]  validation loss: 59.097\n",
            "[Epoch: 7, Iteration:     1]  training loss: 63.949\n",
            "[Epoch: 7, Iteration:   201]  training loss: 52.725\n",
            "[Epoch: 7, Iteration:   401]  training loss: 52.946\n",
            "[Epoch: 7, Iteration:   601]  training loss: 54.476\n",
            "[Epoch: 7, Iteration:     1]  validation loss: 53.739\n",
            "[Epoch: 8, Iteration:     1]  training loss: 52.183\n",
            "[Epoch: 8, Iteration:   201]  training loss: 54.736\n",
            "[Epoch: 8, Iteration:   401]  training loss: 58.919\n",
            "[Epoch: 8, Iteration:   601]  training loss: 52.704\n",
            "[Epoch: 8, Iteration:     1]  validation loss: 62.218\n",
            "[Epoch: 9, Iteration:     1]  training loss: 57.735\n",
            "[Epoch: 9, Iteration:   201]  training loss: 52.886\n",
            "[Epoch: 9, Iteration:   401]  training loss: 55.366\n",
            "[Epoch: 9, Iteration:   601]  training loss: 48.893\n",
            "[Epoch: 9, Iteration:     1]  validation loss: 54.315\n",
            "[Epoch: 10, Iteration:     1]  training loss: 58.475\n",
            "[Epoch: 10, Iteration:   201]  training loss: 53.059\n",
            "[Epoch: 10, Iteration:   401]  training loss: 53.487\n",
            "[Epoch: 10, Iteration:   601]  training loss: 54.326\n",
            "[Epoch: 10, Iteration:     1]  validation loss: 49.716\n",
            "[Epoch: 11, Iteration:     1]  training loss: 53.796\n",
            "[Epoch: 11, Iteration:   201]  training loss: 48.681\n",
            "[Epoch: 11, Iteration:   401]  training loss: 50.263\n",
            "[Epoch: 11, Iteration:   601]  training loss: 52.962\n",
            "[Epoch: 11, Iteration:     1]  validation loss: 45.152\n",
            "[Epoch: 12, Iteration:     1]  training loss: 50.495\n",
            "[Epoch: 12, Iteration:   201]  training loss: 49.888\n",
            "[Epoch: 12, Iteration:   401]  training loss: 53.144\n",
            "[Epoch: 12, Iteration:   601]  training loss: 50.035\n",
            "[Epoch: 12, Iteration:     1]  validation loss: 45.355\n",
            "[Epoch: 13, Iteration:     1]  training loss: 48.373\n",
            "[Epoch: 13, Iteration:   201]  training loss: 48.665\n",
            "[Epoch: 13, Iteration:   401]  training loss: 47.622\n",
            "[Epoch: 13, Iteration:   601]  training loss: 50.040\n",
            "[Epoch: 13, Iteration:     1]  validation loss: 46.542\n",
            "[Epoch: 14, Iteration:     1]  training loss: 53.809\n",
            "[Epoch: 14, Iteration:   201]  training loss: 46.102\n",
            "[Epoch: 14, Iteration:   401]  training loss: 46.579\n",
            "[Epoch: 14, Iteration:   601]  training loss: 49.826\n",
            "[Epoch: 14, Iteration:     1]  validation loss: 45.002\n",
            "[Epoch: 15, Iteration:     1]  training loss: 48.595\n",
            "[Epoch: 15, Iteration:   201]  training loss: 48.633\n",
            "[Epoch: 15, Iteration:   401]  training loss: 51.313\n",
            "[Epoch: 15, Iteration:   601]  training loss: 54.015\n",
            "[Epoch: 15, Iteration:     1]  validation loss: 46.247\n",
            "[Epoch: 16, Iteration:     1]  training loss: 48.543\n",
            "[Epoch: 16, Iteration:   201]  training loss: 48.554\n",
            "[Epoch: 16, Iteration:   401]  training loss: 46.903\n",
            "[Epoch: 16, Iteration:   601]  training loss: 51.327\n",
            "[Epoch: 16, Iteration:     1]  validation loss: 44.927\n",
            "[Epoch: 17, Iteration:     1]  training loss: 48.068\n",
            "[Epoch: 17, Iteration:   201]  training loss: 48.382\n",
            "[Epoch: 17, Iteration:   401]  training loss: 48.259\n",
            "[Epoch: 17, Iteration:   601]  training loss: 50.155\n",
            "[Epoch: 17, Iteration:     1]  validation loss: 48.939\n",
            "[Epoch: 18, Iteration:     1]  training loss: 48.207\n",
            "[Epoch: 18, Iteration:   201]  training loss: 49.258\n",
            "[Epoch: 18, Iteration:   401]  training loss: 49.736\n",
            "[Epoch: 18, Iteration:   601]  training loss: 47.987\n",
            "[Epoch: 18, Iteration:     1]  validation loss: 45.633\n",
            "[Epoch: 19, Iteration:     1]  training loss: 48.859\n",
            "[Epoch: 19, Iteration:   201]  training loss: 46.691\n",
            "[Epoch: 19, Iteration:   401]  training loss: 44.313\n",
            "[Epoch: 19, Iteration:   601]  training loss: 49.112\n",
            "[Epoch: 19, Iteration:     1]  validation loss: 47.972\n",
            "[Epoch: 20, Iteration:     1]  training loss: 49.357\n",
            "[Epoch: 20, Iteration:   201]  training loss: 47.611\n",
            "[Epoch: 20, Iteration:   401]  training loss: 46.696\n",
            "[Epoch: 20, Iteration:   601]  training loss: 53.601\n",
            "[Epoch: 20, Iteration:     1]  validation loss: 43.111\n",
            "[Epoch: 21, Iteration:     1]  training loss: 51.523\n",
            "[Epoch: 21, Iteration:   201]  training loss: 44.977\n",
            "[Epoch: 21, Iteration:   401]  training loss: 45.417\n",
            "[Epoch: 21, Iteration:   601]  training loss: 47.586\n",
            "[Epoch: 21, Iteration:     1]  validation loss: 45.516\n",
            "[Epoch: 22, Iteration:     1]  training loss: 51.392\n",
            "[Epoch: 22, Iteration:   201]  training loss: 47.138\n",
            "[Epoch: 22, Iteration:   401]  training loss: 46.010\n",
            "[Epoch: 22, Iteration:   601]  training loss: 49.597\n",
            "[Epoch: 22, Iteration:     1]  validation loss: 43.348\n",
            "[Epoch: 23, Iteration:     1]  training loss: 47.113\n",
            "[Epoch: 23, Iteration:   201]  training loss: 48.891\n",
            "[Epoch: 23, Iteration:   401]  training loss: 46.795\n",
            "[Epoch: 23, Iteration:   601]  training loss: 48.434\n",
            "[Epoch: 23, Iteration:     1]  validation loss: 46.794\n",
            "[Epoch: 24, Iteration:     1]  training loss: 45.285\n",
            "[Epoch: 24, Iteration:   201]  training loss: 47.925\n",
            "[Epoch: 24, Iteration:   401]  training loss: 47.453\n",
            "[Epoch: 24, Iteration:   601]  training loss: 48.423\n",
            "[Epoch: 24, Iteration:     1]  validation loss: 45.163\n",
            "[Epoch: 25, Iteration:     1]  training loss: 48.274\n",
            "[Epoch: 25, Iteration:   201]  training loss: 48.744\n",
            "[Epoch: 25, Iteration:   401]  training loss: 48.128\n",
            "[Epoch: 25, Iteration:   601]  training loss: 46.246\n",
            "[Epoch: 25, Iteration:     1]  validation loss: 42.866\n",
            "[Epoch: 26, Iteration:     1]  training loss: 46.862\n",
            "[Epoch: 26, Iteration:   201]  training loss: 48.111\n",
            "[Epoch: 26, Iteration:   401]  training loss: 45.291\n",
            "[Epoch: 26, Iteration:   601]  training loss: 47.927\n",
            "[Epoch: 26, Iteration:     1]  validation loss: 43.656\n",
            "[Epoch: 27, Iteration:     1]  training loss: 45.705\n",
            "[Epoch: 27, Iteration:   201]  training loss: 48.845\n",
            "[Epoch: 27, Iteration:   401]  training loss: 44.339\n",
            "[Epoch: 27, Iteration:   601]  training loss: 48.138\n",
            "[Epoch: 27, Iteration:     1]  validation loss: 44.199\n",
            "[Epoch: 28, Iteration:     1]  training loss: 47.309\n",
            "[Epoch: 28, Iteration:   201]  training loss: 47.776\n",
            "[Epoch: 28, Iteration:   401]  training loss: 48.684\n",
            "[Epoch: 28, Iteration:   601]  training loss: 46.393\n",
            "[Epoch: 28, Iteration:     1]  validation loss: 44.205\n",
            "[Epoch: 29, Iteration:     1]  training loss: 43.823\n",
            "[Epoch: 29, Iteration:   201]  training loss: 48.249\n",
            "[Epoch: 29, Iteration:   401]  training loss: 48.195\n",
            "[Epoch: 29, Iteration:   601]  training loss: 46.878\n",
            "[Epoch: 29, Iteration:     1]  validation loss: 48.162\n",
            "[Epoch: 30, Iteration:     1]  training loss: 47.885\n",
            "[Epoch: 30, Iteration:   201]  training loss: 48.611\n",
            "[Epoch: 30, Iteration:   401]  training loss: 46.139\n",
            "[Epoch: 30, Iteration:   601]  training loss: 47.246\n",
            "[Epoch: 30, Iteration:     1]  validation loss: 43.987\n",
            "[Epoch: 31, Iteration:     1]  training loss: 47.583\n",
            "[Epoch: 31, Iteration:   201]  training loss: 46.527\n",
            "[Epoch: 31, Iteration:   401]  training loss: 47.431\n",
            "[Epoch: 31, Iteration:   601]  training loss: 49.477\n",
            "[Epoch: 31, Iteration:     1]  validation loss: 44.320\n",
            "[Epoch: 32, Iteration:     1]  training loss: 48.313\n",
            "[Epoch: 32, Iteration:   201]  training loss: 49.859\n",
            "[Epoch: 32, Iteration:   401]  training loss: 46.198\n",
            "[Epoch: 32, Iteration:   601]  training loss: 46.995\n",
            "[Epoch: 32, Iteration:     1]  validation loss: 43.064\n",
            "[Epoch: 33, Iteration:     1]  training loss: 44.831\n",
            "[Epoch: 33, Iteration:   201]  training loss: 44.861\n",
            "[Epoch: 33, Iteration:   401]  training loss: 50.742\n",
            "[Epoch: 33, Iteration:   601]  training loss: 46.562\n",
            "[Epoch: 33, Iteration:     1]  validation loss: 43.490\n",
            "[Epoch: 34, Iteration:     1]  training loss: 49.312\n",
            "[Epoch: 34, Iteration:   201]  training loss: 47.952\n",
            "[Epoch: 34, Iteration:   401]  training loss: 47.751\n",
            "[Epoch: 34, Iteration:   601]  training loss: 49.751\n",
            "[Epoch: 34, Iteration:     1]  validation loss: 45.999\n",
            "[Epoch: 35, Iteration:     1]  training loss: 46.942\n",
            "[Epoch: 35, Iteration:   201]  training loss: 49.313\n",
            "[Epoch: 35, Iteration:   401]  training loss: 46.208\n",
            "[Epoch: 35, Iteration:   601]  training loss: 46.739\n",
            "[Epoch: 35, Iteration:     1]  validation loss: 44.070\n",
            "[Epoch: 36, Iteration:     1]  training loss: 49.983\n",
            "[Epoch: 36, Iteration:   201]  training loss: 47.101\n",
            "[Epoch: 36, Iteration:   401]  training loss: 49.191\n",
            "[Epoch: 36, Iteration:   601]  training loss: 47.795\n",
            "[Epoch: 36, Iteration:     1]  validation loss: 43.203\n",
            "[Epoch: 37, Iteration:     1]  training loss: 45.888\n",
            "[Epoch: 37, Iteration:   201]  training loss: 44.313\n",
            "[Epoch: 37, Iteration:   401]  training loss: 46.325\n",
            "[Epoch: 37, Iteration:   601]  training loss: 46.798\n",
            "[Epoch: 37, Iteration:     1]  validation loss: 43.109\n",
            "[Epoch: 38, Iteration:     1]  training loss: 45.646\n",
            "[Epoch: 38, Iteration:   201]  training loss: 46.373\n",
            "[Epoch: 38, Iteration:   401]  training loss: 46.608\n",
            "[Epoch: 38, Iteration:   601]  training loss: 44.416\n",
            "[Epoch: 38, Iteration:     1]  validation loss: 43.068\n",
            "[Epoch: 39, Iteration:     1]  training loss: 48.354\n",
            "[Epoch: 39, Iteration:   201]  training loss: 47.668\n",
            "[Epoch: 39, Iteration:   401]  training loss: 45.244\n",
            "[Epoch: 39, Iteration:   601]  training loss: 46.207\n",
            "[Epoch: 39, Iteration:     1]  validation loss: 44.472\n",
            "[Epoch: 40, Iteration:     1]  training loss: 46.741\n",
            "[Epoch: 40, Iteration:   201]  training loss: 50.042\n",
            "[Epoch: 40, Iteration:   401]  training loss: 45.771\n",
            "[Epoch: 40, Iteration:   601]  training loss: 45.463\n",
            "[Epoch: 40, Iteration:     1]  validation loss: 47.321\n"
          ]
        },
        {
          "data": {
            "image/png": "[encoded data removed]",
            "text/plain": [
              "<Figure size 640x480 with 1 Axes>"
            ]
          },
          "metadata": {},
          "output_type": "display_data"
        }
      ],
      "source": [
        "# launch training with the new output_n\n",
        "train(data_loader,vald_loader, path_to_save_model=model_path_iterative)"
      ]
    },
    {
      "cell_type": "markdown",
      "metadata": {
        "id": "Flw5562hBXrm"
      },
      "source": [
        "### Test Loop"
      ]
    },
    {
      "cell_type": "code",
      "execution_count": 144,
      "metadata": {
        "id": "0yi1JCPdBXrm"
      },
      "outputs": [],
      "source": [
        "def test(ckpt_path=None):\n",
        "    model.load_state_dict(torch.load(ckpt_path))\n",
        "    print('model loaded')\n",
        "    model.eval()\n",
        "    accum_loss=0\n",
        "    n_batches=0 # number of batches for all the sequences\n",
        "    actions=define_actions(actions_to_consider_test)\n",
        "    dim_used = np.array([6, 7, 8, 9, 10, 11, 12, 13, 14, 15, 16, 17, 21, 22, 23, 24, 25,\n",
        "                      26, 27, 28, 29, 30, 31, 32, 36, 37, 38, 39, 40, 41, 42, 43, 44, 45,\n",
        "                      46, 47, 51, 52, 53, 54, 55, 56, 57, 58, 59, 63, 64, 65, 66, 67, 68,\n",
        "                      75, 76, 77, 78, 79, 80, 81, 82, 83, 87, 88, 89, 90, 91, 92])\n",
        "\n",
        "     ############################\n",
        "    #aggiunto da noi\n",
        "    action_mpjpe_dict = {}\n",
        "    total_loss_per_frame = {5: 0, 10: 0, 15: 0, 25: 0}\n",
        "    total_sequences = 0\n",
        "\n",
        "    ############################\n",
        "    # joints at same loc\n",
        "    joint_to_ignore = np.array([16, 20, 23, 24, 28, 31])\n",
        "    index_to_ignore = np.concatenate((joint_to_ignore * 3, joint_to_ignore * 3 + 1, joint_to_ignore * 3 + 2))\n",
        "    joint_equal = np.array([13, 19, 22, 13, 27, 30])\n",
        "    index_to_equal = np.concatenate((joint_equal * 3, joint_equal * 3 + 1, joint_equal * 3 + 2))\n",
        "    totalll=0\n",
        "    counter=0\n",
        "    for action in actions:\n",
        "      running_loss=0\n",
        "      n=0\n",
        "      dataset_test = datasets.Datasets(path,input_n,25,skip_rate, split=2,actions=[action])\n",
        "      #print('>>> test action for sequences: {:d}'.format(dataset_test.__len__()))\n",
        "\n",
        "      test_loader = DataLoader(dataset_test, batch_size=batch_size_test, shuffle=False, num_workers=0, pin_memory=True)\n",
        "      for cnt,batch in enumerate(test_loader):\n",
        "        with torch.no_grad():\n",
        "\n",
        "          batch=batch.to(device)\n",
        "          batch_dim=batch.shape[0]\n",
        "          n+=batch_dim\n",
        "\n",
        "          all_joints_seq=batch.clone()[:, input_n:input_n+25,:]\n",
        "\n",
        "          sequences_train=batch[:, 0:input_n, dim_used].view(-1,input_n,len(dim_used)//3,3).permute(0,3,1,2)\n",
        "          sequences_gt=batch[:, input_n:input_n+25, :]\n",
        "\n",
        "          running_time = time.time()\n",
        "\n",
        "          sequences_predict=model(sequences_train).view(-1, output_n, joints_to_consider, 3)\n",
        "          #sequences_predict = model(sequences_train)\n",
        "          totalll += time.time()-running_time\n",
        "          counter += 1\n",
        "          '''\n",
        "          Insert your code below. You will need to iteratively predict the next frames and feed it to back to the model until you reach the desired number of frames.\n",
        "          '''\n",
        "\n",
        "          # NB: the dimension of the input of the model is (8,3,10,22)\n",
        "          # so we need to permute the newly obtained output, to be inserted in the input\n",
        "          sp_permuted = sequences_predict.permute(0, 3, 1, 2)\n",
        "\n",
        "          # Use this new input sequence (sp_permuted) to predict the next 10 frames.\n",
        "          sequences_next_predict = model(sp_permuted).view(-1, output_n, joints_to_consider, 3)\n",
        "\n",
        "          # concatenate the new output with the old one, we will have 20 predicted frames after this\n",
        "          sequences_final_predict = torch.cat((sequences_predict, sequences_next_predict[:, :, :, :]), dim=1)\n",
        "\n",
        "          # permute the new output to be inserted as the input (same as before)\n",
        "          snp_permuted = sequences_next_predict.permute(0, 3, 1, 2)\n",
        "\n",
        "          # Use this new input sequence to predict the next 10 frames.\n",
        "          sequences_next_predict2 = model(snp_permuted).view(-1, output_n, joints_to_consider, 3)\n",
        "\n",
        "          # concatenate the next 5\n",
        "          sequences_final_predict = torch.cat((sequences_final_predict, sequences_next_predict2[:, :5, :, :]), dim=1)\n",
        "\n",
        "          frames_to_consider = [5, 10, 15, 25]\n",
        "\n",
        "          # Assign sequences_final_predict to the new tensor\n",
        "          # Reshape sequences_final_predict to have a shape of [8, 25, 66]\n",
        "\n",
        "          sequences_final_predict_reshaped = sequences_final_predict.view(batch_dim, 25, -1)\n",
        "          all_joints_seq[:, :, dim_used] = sequences_final_predict_reshaped\n",
        "          all_joints_seq[:,:,index_to_ignore] = all_joints_seq[:,:,index_to_equal]\n",
        "\n",
        "          # get the mpjpe error\n",
        "          dict_loss = mpjpe_per_frame(all_joints_seq, sequences_gt, frames_to_consider)\n",
        "\n",
        "          # sum the value with respect to the frame\n",
        "          for frame, loss in dict_loss.items():\n",
        "                total_loss_per_frame[frame] += loss\n",
        "\n",
        "          #TODO check counter: questo contatore potrebbe essere inutile\n",
        "          total_sequences += 1\n",
        "\n",
        "      '''\n",
        "      Insert your code below.\n",
        "      Average the loss over all the frames in the sequence and print the results.\n",
        "      '''\n",
        "\n",
        "      #now we need to do the average\n",
        "      avg_loss_per_frame = {frame: loss / total_sequences for frame, loss in total_loss_per_frame.items()}\n",
        "\n",
        "      #print the result for every action\n",
        "      print(str(action),': ', str(avg_loss_per_frame))\n",
        "\n",
        "      #update the dictionary\n",
        "      action_mpjpe_dict[f\"avg_loss_per_frame/{action}\"] = avg_loss_per_frame\n",
        "\n",
        "    #return the dictionary (not asked but it might be usefull later on)\n",
        "    #return action_mpjpe_dict\n"
      ]
    },
    {
      "cell_type": "code",
      "execution_count": 145,
      "metadata": {
        "colab": {
          "base_uri": "https://localhost:8080/"
        },
        "id": "nbwZQr2PBXrn",
        "outputId": "65dedf2c-04c0-48e3-d14c-95e9682d7006"
      },
      "outputs": [
        {
          "output_type": "stream",
          "name": "stdout",
          "text": [
            "model loaded\n",
            "walking :  {5: 38.101313292980194, 10: 58.47386622428894, 15: 72.78038597106934, 25: 84.92221593856812}\n",
            "eating :  {5: 34.9777949154377, 10: 55.11351054906845, 15: 70.69065070152283, 25: 87.82684290409088}\n",
            "smoking :  {5: 34.715791861216225, 10: 53.77352193991343, 15: 69.3064923286438, 25: 87.09954659144084}\n",
            "discussion :  {5: 37.47930258512497, 10: 60.045474857091904, 15: 77.8801577091217, 25: 96.83207023143768}\n",
            "directions :  {5: 38.00996996164322, 10: 62.17199881076813, 15: 80.10676927566529, 25: 100.3052285194397}\n",
            "greeting :  {5: 41.21880826354027, 10: 67.7775569955508, 15: 86.81670773029327, 25: 107.83277269204457}\n",
            "phoning :  {5: 40.878322422504425, 10: 67.26816843237195, 15: 86.88655209541321, 25: 109.402542250497}\n",
            "posing :  {5: 42.43075869232416, 10: 70.83658592402935, 15: 92.5877933204174, 25: 118.47311127185822}\n",
            "purchases :  {5: 44.084454741742874, 10: 73.16646167967055, 15: 95.20744739638434, 25: 121.49231349097357}\n",
            "sitting :  {5: 44.36218095421791, 10: 73.14361218214034, 15: 95.6191910982132, 25: 122.62775452136994}\n",
            "sittingdown :  {5: 46.07453311031515, 10: 74.98643913052298, 15: 98.23993394591592, 25: 126.3343109217557}\n",
            "takingphoto :  {5: 45.848739594221115, 10: 74.56424893935521, 15: 98.02303770184517, 25: 126.72039707501729}\n",
            "waiting :  {5: 45.58192298045525, 10: 74.33040669331184, 15: 97.65933498969444, 25: 126.23798749997066}\n",
            "walkingdog :  {5: 47.16417015450342, 10: 76.48050636053085, 15: 99.8046892455646, 25: 128.55884979452406}\n",
            "walkingtogether :  {5: 46.34886650641759, 10: 75.06657087802887, 15: 97.70370202064514, 25: 125.37151077588399}\n"
          ]
        }
      ],
      "source": [
        "model_path_iterative = './checkpoints_iterative/h36m_3d_10frames_ckpt_epoch_40.pt' # Change the epoch according to the validation curve\n",
        "test(ckpt_path=model_path_iterative)"
      ]
    },
    {
      "cell_type": "markdown",
      "metadata": {
        "id": "ceuqVt5HBXrn"
      },
      "source": [
        "## YOUR custom model (**3 Points**)\n",
        " In this exercise, you will implement a Transformer-like network (based on the Theory notebook) for this specific task. You can use the Transformer's Encoder and implement your own Decoder to predict future poses. (e.g. RNN, MLP, CNN, TCN, ...).\n",
        " We won't provide any code for this exercise, but you can use the code provided in the Theory notebook as a starting point.\n",
        " The goal of this exercise is not to beat the previous model but to understand how to implement a Transformer network for this specific task. For this reason, the evaluation will be based on the code you write and the explanation you provide in the report rather than the results.\n",
        "\n",
        "\n",
        "### Performance BONUS (**Up to 2 Points**)\n",
        "- **1 Bonus Point** if the model achieves an A-MPJPE between 80 and 90 millimeters.\n",
        "- **2 Bonus Points** if the model achieves an A-MPJPE between 70 and 80 millimeters.\n"
      ]
    },
    {
      "cell_type": "code",
      "execution_count": null,
      "metadata": {
        "id": "1dxldHMmBXro"
      },
      "outputs": [],
      "source": [
        "'''\n",
        "Input Shape: [batch_size, input_time, joints, 3]\n",
        "\n",
        "Encoder:\n",
        "Input shape: [batch_size, input_time, joints, 3]\n",
        "Output shape: [batch_size, input_time/output_time, joints, FREE]\n",
        "\n",
        "# Decoder:\n",
        "Input shape: [batch_size, input_time/output_time, joints, FREE]\n",
        "Output shape: [batch_size, output_time, joints, 3]\n",
        "\n",
        "\n",
        "Hint: Transformers often take an input of shape [batch_size, time, joints*channels], use the reshape or view function to match the dimensionality.\n",
        "'''"
      ]
    }
  ],
  "metadata": {
    "accelerator": "GPU",
    "colab": {
      "provenance": [],
      "collapsed_sections": [
        "fTbGwJFtBXra",
        "iELEXXORBXrf",
        "Mfh69SDiBXrh",
        "W3_T38zzBXrm"
      ],
      "gpuType": "T4"
    },
    "kernelspec": {
      "display_name": "Python 3",
      "name": "python3"
    },
    "language_info": {
      "codemirror_mode": {
        "name": "ipython",
        "version": 3
      },
      "file_extension": ".py",
      "mimetype": "text/x-python",
      "name": "python",
      "nbconvert_exporter": "python",
      "pygments_lexer": "ipython3",
      "version": "3.8.5"
    },
    "vscode": {
      "interpreter": {
        "hash": "ad2bdc8ecc057115af97d19610ffacc2b4e99fae6737bb82f5d7fb13d2f2c186"
      }
    },
    "widgets": {
      "application/vnd.jupyter.widget-state+json": {
        "1ccdd086b475483295de6391f9f469dc": {
          "model_module": "@jupyter-widgets/base",
          "model_module_version": "1.2.0",
          "model_name": "LayoutModel",
          "state": {
            "_model_module": "@jupyter-widgets/base",
            "_model_module_version": "1.2.0",
            "_model_name": "LayoutModel",
            "_view_count": null,
            "_view_module": "@jupyter-widgets/base",
            "_view_module_version": "1.2.0",
            "_view_name": "LayoutView",
            "align_content": null,
            "align_items": null,
            "align_self": null,
            "border": null,
            "bottom": null,
            "display": null,
            "flex": null,
            "flex_flow": null,
            "grid_area": null,
            "grid_auto_columns": null,
            "grid_auto_flow": null,
            "grid_auto_rows": null,
            "grid_column": null,
            "grid_gap": null,
            "grid_row": null,
            "grid_template_areas": null,
            "grid_template_columns": null,
            "grid_template_rows": null,
            "height": null,
            "justify_content": null,
            "justify_items": null,
            "left": null,
            "margin": null,
            "max_height": null,
            "max_width": null,
            "min_height": null,
            "min_width": null,
            "object_fit": null,
            "object_position": null,
            "order": null,
            "overflow": null,
            "overflow_x": null,
            "overflow_y": null,
            "padding": null,
            "right": null,
            "top": null,
            "visibility": null,
            "width": null
          }
        },
        "26dd3a1731e64a9b819005d7cd8e7996": {
          "model_module": "@jupyter-widgets/controls",
          "model_module_version": "1.5.0",
          "model_name": "LabelModel",
          "state": {
            "_dom_classes": [],
            "_model_module": "@jupyter-widgets/controls",
            "_model_module_version": "1.5.0",
            "_model_name": "LabelModel",
            "_view_count": null,
            "_view_module": "@jupyter-widgets/controls",
            "_view_module_version": "1.5.0",
            "_view_name": "LabelView",
            "description": "",
            "description_tooltip": null,
            "layout": "IPY_MODEL_1ccdd086b475483295de6391f9f469dc",
            "placeholder": "​",
            "style": "IPY_MODEL_882027c62aee457884ca9ae347777451",
            "value": "0.001 MB of 0.016 MB uploaded (0.000 MB deduped)\r"
          }
        },
        "3e865a34ac0842fa8d2bb5b311ae5511": {
          "model_module": "@jupyter-widgets/controls",
          "model_module_version": "1.5.0",
          "model_name": "FloatProgressModel",
          "state": {
            "_dom_classes": [],
            "_model_module": "@jupyter-widgets/controls",
            "_model_module_version": "1.5.0",
            "_model_name": "FloatProgressModel",
            "_view_count": null,
            "_view_module": "@jupyter-widgets/controls",
            "_view_module_version": "1.5.0",
            "_view_name": "ProgressView",
            "bar_style": "",
            "description": "",
            "description_tooltip": null,
            "layout": "IPY_MODEL_48d6bca113864643ad01f43633f10d9c",
            "max": 1,
            "min": 0,
            "orientation": "horizontal",
            "style": "IPY_MODEL_7286a39848c548d48d6a94d9b87adf6e",
            "value": 0.07414040114613181
          }
        },
        "48d6bca113864643ad01f43633f10d9c": {
          "model_module": "@jupyter-widgets/base",
          "model_module_version": "1.2.0",
          "model_name": "LayoutModel",
          "state": {
            "_model_module": "@jupyter-widgets/base",
            "_model_module_version": "1.2.0",
            "_model_name": "LayoutModel",
            "_view_count": null,
            "_view_module": "@jupyter-widgets/base",
            "_view_module_version": "1.2.0",
            "_view_name": "LayoutView",
            "align_content": null,
            "align_items": null,
            "align_self": null,
            "border": null,
            "bottom": null,
            "display": null,
            "flex": null,
            "flex_flow": null,
            "grid_area": null,
            "grid_auto_columns": null,
            "grid_auto_flow": null,
            "grid_auto_rows": null,
            "grid_column": null,
            "grid_gap": null,
            "grid_row": null,
            "grid_template_areas": null,
            "grid_template_columns": null,
            "grid_template_rows": null,
            "height": null,
            "justify_content": null,
            "justify_items": null,
            "left": null,
            "margin": null,
            "max_height": null,
            "max_width": null,
            "min_height": null,
            "min_width": null,
            "object_fit": null,
            "object_position": null,
            "order": null,
            "overflow": null,
            "overflow_x": null,
            "overflow_y": null,
            "padding": null,
            "right": null,
            "top": null,
            "visibility": null,
            "width": null
          }
        },
        "7286a39848c548d48d6a94d9b87adf6e": {
          "model_module": "@jupyter-widgets/controls",
          "model_module_version": "1.5.0",
          "model_name": "ProgressStyleModel",
          "state": {
            "_model_module": "@jupyter-widgets/controls",
            "_model_module_version": "1.5.0",
            "_model_name": "ProgressStyleModel",
            "_view_count": null,
            "_view_module": "@jupyter-widgets/base",
            "_view_module_version": "1.2.0",
            "_view_name": "StyleView",
            "bar_color": null,
            "description_width": ""
          }
        },
        "882027c62aee457884ca9ae347777451": {
          "model_module": "@jupyter-widgets/controls",
          "model_module_version": "1.5.0",
          "model_name": "DescriptionStyleModel",
          "state": {
            "_model_module": "@jupyter-widgets/controls",
            "_model_module_version": "1.5.0",
            "_model_name": "DescriptionStyleModel",
            "_view_count": null,
            "_view_module": "@jupyter-widgets/base",
            "_view_module_version": "1.2.0",
            "_view_name": "StyleView",
            "description_width": ""
          }
        },
        "ad1335a70ab64f1e82759084cf3521bd": {
          "model_module": "@jupyter-widgets/controls",
          "model_module_version": "1.5.0",
          "model_name": "VBoxModel",
          "state": {
            "_dom_classes": [],
            "_model_module": "@jupyter-widgets/controls",
            "_model_module_version": "1.5.0",
            "_model_name": "VBoxModel",
            "_view_count": null,
            "_view_module": "@jupyter-widgets/controls",
            "_view_module_version": "1.5.0",
            "_view_name": "VBoxView",
            "box_style": "",
            "children": [
              "IPY_MODEL_26dd3a1731e64a9b819005d7cd8e7996",
              "IPY_MODEL_3e865a34ac0842fa8d2bb5b311ae5511"
            ],
            "layout": "IPY_MODEL_e6bff14e4b7244a09655883fb34c1703"
          }
        },
        "e6bff14e4b7244a09655883fb34c1703": {
          "model_module": "@jupyter-widgets/base",
          "model_module_version": "1.2.0",
          "model_name": "LayoutModel",
          "state": {
            "_model_module": "@jupyter-widgets/base",
            "_model_module_version": "1.2.0",
            "_model_name": "LayoutModel",
            "_view_count": null,
            "_view_module": "@jupyter-widgets/base",
            "_view_module_version": "1.2.0",
            "_view_name": "LayoutView",
            "align_content": null,
            "align_items": null,
            "align_self": null,
            "border": null,
            "bottom": null,
            "display": null,
            "flex": null,
            "flex_flow": null,
            "grid_area": null,
            "grid_auto_columns": null,
            "grid_auto_flow": null,
            "grid_auto_rows": null,
            "grid_column": null,
            "grid_gap": null,
            "grid_row": null,
            "grid_template_areas": null,
            "grid_template_columns": null,
            "grid_template_rows": null,
            "height": null,
            "justify_content": null,
            "justify_items": null,
            "left": null,
            "margin": null,
            "max_height": null,
            "max_width": null,
            "min_height": null,
            "min_width": null,
            "object_fit": null,
            "object_position": null,
            "order": null,
            "overflow": null,
            "overflow_x": null,
            "overflow_y": null,
            "padding": null,
            "right": null,
            "top": null,
            "visibility": null,
            "width": null
          }
        }
      }
    }
  },
  "nbformat": 4,
  "nbformat_minor": 0
}